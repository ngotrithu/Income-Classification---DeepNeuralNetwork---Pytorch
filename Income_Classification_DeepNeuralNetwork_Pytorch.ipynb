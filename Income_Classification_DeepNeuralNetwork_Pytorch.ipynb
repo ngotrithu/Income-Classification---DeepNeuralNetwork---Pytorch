{
  "nbformat": 4,
  "nbformat_minor": 0,
  "metadata": {
    "colab": {
      "name": "Income Classification - DeepNeuralNetwork - Pytorch.ipynb",
      "provenance": [],
      "toc_visible": true,
      "authorship_tag": "ABX9TyPwwn+wdrkgamD25btMnK2O",
      "include_colab_link": true
    },
    "kernelspec": {
      "name": "python3",
      "display_name": "Python 3"
    },
    "language_info": {
      "name": "python"
    }
  },
  "cells": [
    {
      "cell_type": "markdown",
      "metadata": {
        "id": "view-in-github",
        "colab_type": "text"
      },
      "source": [
        "<a href=\"https://colab.research.google.com/github/ngotrithu/Income-Classification---DeepNeuralNetwork---Pytorch/blob/main/Income_Classification_DeepNeuralNetwork_Pytorch.ipynb\" target=\"_parent\"><img src=\"https://colab.research.google.com/assets/colab-badge.svg\" alt=\"Open In Colab\"/></a>"
      ]
    },
    {
      "cell_type": "markdown",
      "source": [
        "#Mục đích:\n",
        "* Dự đoán liệu thu nhập hàng năm của một người trưởng thành lớn hơn hay nhỏ hơn $50k một năm hay không?\n",
        "* Sự bất bình đẳng về tài sản và thu nhập là một mối quan tâm sâu sắc của các chính phủ đặc biệt là ở các quốc gia đang phát triển như Mĩ và Châu Âu. Nguyên tắc phổ quát trong bình đẳng thu nhập đảm bảo phát triển bền vững và cải thiện sự ổn định kinh tế của một quốc gia. Việc áp dụng các kỹ thuật học máy và khai thác dữ liệu trong cung cấp giải pháp cho vấn đề bình đẳng thu nhập là khả thi và nhiều triển vọng"
      ],
      "metadata": {
        "id": "4EgXkdLFsTd2"
      }
    },
    {
      "cell_type": "code",
      "execution_count": null,
      "metadata": {
        "colab": {
          "base_uri": "https://localhost:8080/"
        },
        "id": "F3Wmjc1xYqmp",
        "outputId": "5ab62d99-1a85-4d53-972a-a23700c798c0"
      },
      "outputs": [
        {
          "output_type": "stream",
          "name": "stdout",
          "text": [
            "Drive already mounted at /content/drive; to attempt to forcibly remount, call drive.mount(\"/content/drive\", force_remount=True).\n",
            "creditcard.csv\t    realestate.csv  weatherAUS_2.csv\n",
            "Customer-Churn.csv  test.csv\t    weatherAUS.csv\n",
            "data\t\t    train.csv\t    weatherdata.csv\n"
          ]
        }
      ],
      "source": [
        "from google.colab import drive\n",
        "import os\n",
        "\n",
        "drive.mount('/content/drive')\n",
        "os.chdir('drive/My Drive/Colab Notebooks')\n",
        "!ls dataset"
      ]
    },
    {
      "cell_type": "markdown",
      "source": [
        "##Import Package and Load data"
      ],
      "metadata": {
        "id": "OPulJ-yRSxTH"
      }
    },
    {
      "cell_type": "code",
      "source": [
        "import pandas as pd\n",
        "import numpy as np\n",
        "import seaborn as sns\n",
        "import matplotlib.pyplot as plt\n",
        "from sklearn.compose import ColumnTransformer\n",
        "from sklearn.naive_bayes import GaussianNB\n",
        "from sklearn.linear_model import LogisticRegression\n",
        "from sklearn.neighbors import KNeighborsClassifier\n",
        "from sklearn.svm import LinearSVC\n",
        "from sklearn.neural_network import MLPClassifier\n",
        "from sklearn.ensemble import GradientBoostingClassifier\n",
        "from sklearn.ensemble import RandomForestClassifier\n",
        "from sklearn.impute import KNNImputer, SimpleImputer\n",
        "from sklearn.metrics import accuracy_score\n",
        "from sklearn.model_selection import train_test_split\n",
        "from sklearn.pipeline import Pipeline\n",
        "from sklearn.model_selection import cross_val_score\n",
        "from sklearn.metrics import make_scorer, accuracy_score, precision_score, recall_score, f1_score\n",
        "from sklearn.metrics import confusion_matrix, classification_report\n",
        "from sklearn.model_selection import RepeatedStratifiedKFold\n",
        "from sklearn.preprocessing import OneHotEncoder, MinMaxScaler, StandardScaler\n",
        "import torch\n",
        "import torch.nn as nn\n",
        "import torch.utils.data as td"
      ],
      "metadata": {
        "id": "TCHEyiW3rsTp"
      },
      "execution_count": null,
      "outputs": []
    },
    {
      "cell_type": "code",
      "source": [
        "df=pd.read_csv('dataset/train.csv')\n",
        "df.head()"
      ],
      "metadata": {
        "colab": {
          "base_uri": "https://localhost:8080/",
          "height": 357
        },
        "id": "cr96mxx8Y6rP",
        "outputId": "3e979408-6718-4a0f-f976-e7aeb80bb192"
      },
      "execution_count": null,
      "outputs": [
        {
          "output_type": "execute_result",
          "data": {
            "text/plain": [
              "   ID  age work_type  final_weight     education  total_education_yrs  \\\n",
              "0   0   45   Private        175925       HS-grad                    9   \n",
              "1   1   23   Private        113601  Some-college                   10   \n",
              "2   2   22   Private        112137  Some-college                   10   \n",
              "3   3   27   Private        153078   Prof-school                   15   \n",
              "4   4   18   Private        375515          11th                    7   \n",
              "\n",
              "        marital_state                job          status           ethnicity  \\\n",
              "0  Married-civ-spouse       Craft-repair         Husband               White   \n",
              "1       Never-married  Handlers-cleaners       Own-child               White   \n",
              "2       Never-married     Prof-specialty  Other-relative  Asian-Pac-Islander   \n",
              "3       Never-married     Prof-specialty       Own-child  Asian-Pac-Islander   \n",
              "4       Never-married              Sales       Own-child               White   \n",
              "\n",
              "  sex  capital_gain  capital_loss  hrs_per_week nationality  target_income  \n",
              "0   M             0             0            40          US              0  \n",
              "1   M             0             0            30          US              0  \n",
              "2   F             0             0            20       South              0  \n",
              "3   M             0             0            40          US              0  \n",
              "4   F             0             0            20          US              0  "
            ],
            "text/html": [
              "\n",
              "  <div id=\"df-6d3c7d7f-5da9-4277-9f4f-a6f00f28c614\">\n",
              "    <div class=\"colab-df-container\">\n",
              "      <div>\n",
              "<style scoped>\n",
              "    .dataframe tbody tr th:only-of-type {\n",
              "        vertical-align: middle;\n",
              "    }\n",
              "\n",
              "    .dataframe tbody tr th {\n",
              "        vertical-align: top;\n",
              "    }\n",
              "\n",
              "    .dataframe thead th {\n",
              "        text-align: right;\n",
              "    }\n",
              "</style>\n",
              "<table border=\"1\" class=\"dataframe\">\n",
              "  <thead>\n",
              "    <tr style=\"text-align: right;\">\n",
              "      <th></th>\n",
              "      <th>ID</th>\n",
              "      <th>age</th>\n",
              "      <th>work_type</th>\n",
              "      <th>final_weight</th>\n",
              "      <th>education</th>\n",
              "      <th>total_education_yrs</th>\n",
              "      <th>marital_state</th>\n",
              "      <th>job</th>\n",
              "      <th>status</th>\n",
              "      <th>ethnicity</th>\n",
              "      <th>sex</th>\n",
              "      <th>capital_gain</th>\n",
              "      <th>capital_loss</th>\n",
              "      <th>hrs_per_week</th>\n",
              "      <th>nationality</th>\n",
              "      <th>target_income</th>\n",
              "    </tr>\n",
              "  </thead>\n",
              "  <tbody>\n",
              "    <tr>\n",
              "      <th>0</th>\n",
              "      <td>0</td>\n",
              "      <td>45</td>\n",
              "      <td>Private</td>\n",
              "      <td>175925</td>\n",
              "      <td>HS-grad</td>\n",
              "      <td>9</td>\n",
              "      <td>Married-civ-spouse</td>\n",
              "      <td>Craft-repair</td>\n",
              "      <td>Husband</td>\n",
              "      <td>White</td>\n",
              "      <td>M</td>\n",
              "      <td>0</td>\n",
              "      <td>0</td>\n",
              "      <td>40</td>\n",
              "      <td>US</td>\n",
              "      <td>0</td>\n",
              "    </tr>\n",
              "    <tr>\n",
              "      <th>1</th>\n",
              "      <td>1</td>\n",
              "      <td>23</td>\n",
              "      <td>Private</td>\n",
              "      <td>113601</td>\n",
              "      <td>Some-college</td>\n",
              "      <td>10</td>\n",
              "      <td>Never-married</td>\n",
              "      <td>Handlers-cleaners</td>\n",
              "      <td>Own-child</td>\n",
              "      <td>White</td>\n",
              "      <td>M</td>\n",
              "      <td>0</td>\n",
              "      <td>0</td>\n",
              "      <td>30</td>\n",
              "      <td>US</td>\n",
              "      <td>0</td>\n",
              "    </tr>\n",
              "    <tr>\n",
              "      <th>2</th>\n",
              "      <td>2</td>\n",
              "      <td>22</td>\n",
              "      <td>Private</td>\n",
              "      <td>112137</td>\n",
              "      <td>Some-college</td>\n",
              "      <td>10</td>\n",
              "      <td>Never-married</td>\n",
              "      <td>Prof-specialty</td>\n",
              "      <td>Other-relative</td>\n",
              "      <td>Asian-Pac-Islander</td>\n",
              "      <td>F</td>\n",
              "      <td>0</td>\n",
              "      <td>0</td>\n",
              "      <td>20</td>\n",
              "      <td>South</td>\n",
              "      <td>0</td>\n",
              "    </tr>\n",
              "    <tr>\n",
              "      <th>3</th>\n",
              "      <td>3</td>\n",
              "      <td>27</td>\n",
              "      <td>Private</td>\n",
              "      <td>153078</td>\n",
              "      <td>Prof-school</td>\n",
              "      <td>15</td>\n",
              "      <td>Never-married</td>\n",
              "      <td>Prof-specialty</td>\n",
              "      <td>Own-child</td>\n",
              "      <td>Asian-Pac-Islander</td>\n",
              "      <td>M</td>\n",
              "      <td>0</td>\n",
              "      <td>0</td>\n",
              "      <td>40</td>\n",
              "      <td>US</td>\n",
              "      <td>0</td>\n",
              "    </tr>\n",
              "    <tr>\n",
              "      <th>4</th>\n",
              "      <td>4</td>\n",
              "      <td>18</td>\n",
              "      <td>Private</td>\n",
              "      <td>375515</td>\n",
              "      <td>11th</td>\n",
              "      <td>7</td>\n",
              "      <td>Never-married</td>\n",
              "      <td>Sales</td>\n",
              "      <td>Own-child</td>\n",
              "      <td>White</td>\n",
              "      <td>F</td>\n",
              "      <td>0</td>\n",
              "      <td>0</td>\n",
              "      <td>20</td>\n",
              "      <td>US</td>\n",
              "      <td>0</td>\n",
              "    </tr>\n",
              "  </tbody>\n",
              "</table>\n",
              "</div>\n",
              "      <button class=\"colab-df-convert\" onclick=\"convertToInteractive('df-6d3c7d7f-5da9-4277-9f4f-a6f00f28c614')\"\n",
              "              title=\"Convert this dataframe to an interactive table.\"\n",
              "              style=\"display:none;\">\n",
              "        \n",
              "  <svg xmlns=\"http://www.w3.org/2000/svg\" height=\"24px\"viewBox=\"0 0 24 24\"\n",
              "       width=\"24px\">\n",
              "    <path d=\"M0 0h24v24H0V0z\" fill=\"none\"/>\n",
              "    <path d=\"M18.56 5.44l.94 2.06.94-2.06 2.06-.94-2.06-.94-.94-2.06-.94 2.06-2.06.94zm-11 1L8.5 8.5l.94-2.06 2.06-.94-2.06-.94L8.5 2.5l-.94 2.06-2.06.94zm10 10l.94 2.06.94-2.06 2.06-.94-2.06-.94-.94-2.06-.94 2.06-2.06.94z\"/><path d=\"M17.41 7.96l-1.37-1.37c-.4-.4-.92-.59-1.43-.59-.52 0-1.04.2-1.43.59L10.3 9.45l-7.72 7.72c-.78.78-.78 2.05 0 2.83L4 21.41c.39.39.9.59 1.41.59.51 0 1.02-.2 1.41-.59l7.78-7.78 2.81-2.81c.8-.78.8-2.07 0-2.86zM5.41 20L4 18.59l7.72-7.72 1.47 1.35L5.41 20z\"/>\n",
              "  </svg>\n",
              "      </button>\n",
              "      \n",
              "  <style>\n",
              "    .colab-df-container {\n",
              "      display:flex;\n",
              "      flex-wrap:wrap;\n",
              "      gap: 12px;\n",
              "    }\n",
              "\n",
              "    .colab-df-convert {\n",
              "      background-color: #E8F0FE;\n",
              "      border: none;\n",
              "      border-radius: 50%;\n",
              "      cursor: pointer;\n",
              "      display: none;\n",
              "      fill: #1967D2;\n",
              "      height: 32px;\n",
              "      padding: 0 0 0 0;\n",
              "      width: 32px;\n",
              "    }\n",
              "\n",
              "    .colab-df-convert:hover {\n",
              "      background-color: #E2EBFA;\n",
              "      box-shadow: 0px 1px 2px rgba(60, 64, 67, 0.3), 0px 1px 3px 1px rgba(60, 64, 67, 0.15);\n",
              "      fill: #174EA6;\n",
              "    }\n",
              "\n",
              "    [theme=dark] .colab-df-convert {\n",
              "      background-color: #3B4455;\n",
              "      fill: #D2E3FC;\n",
              "    }\n",
              "\n",
              "    [theme=dark] .colab-df-convert:hover {\n",
              "      background-color: #434B5C;\n",
              "      box-shadow: 0px 1px 3px 1px rgba(0, 0, 0, 0.15);\n",
              "      filter: drop-shadow(0px 1px 2px rgba(0, 0, 0, 0.3));\n",
              "      fill: #FFFFFF;\n",
              "    }\n",
              "  </style>\n",
              "\n",
              "      <script>\n",
              "        const buttonEl =\n",
              "          document.querySelector('#df-6d3c7d7f-5da9-4277-9f4f-a6f00f28c614 button.colab-df-convert');\n",
              "        buttonEl.style.display =\n",
              "          google.colab.kernel.accessAllowed ? 'block' : 'none';\n",
              "\n",
              "        async function convertToInteractive(key) {\n",
              "          const element = document.querySelector('#df-6d3c7d7f-5da9-4277-9f4f-a6f00f28c614');\n",
              "          const dataTable =\n",
              "            await google.colab.kernel.invokeFunction('convertToInteractive',\n",
              "                                                     [key], {});\n",
              "          if (!dataTable) return;\n",
              "\n",
              "          const docLinkHtml = 'Like what you see? Visit the ' +\n",
              "            '<a target=\"_blank\" href=https://colab.research.google.com/notebooks/data_table.ipynb>data table notebook</a>'\n",
              "            + ' to learn more about interactive tables.';\n",
              "          element.innerHTML = '';\n",
              "          dataTable['output_type'] = 'display_data';\n",
              "          await google.colab.output.renderOutput(dataTable, element);\n",
              "          const docLink = document.createElement('div');\n",
              "          docLink.innerHTML = docLinkHtml;\n",
              "          element.appendChild(docLink);\n",
              "        }\n",
              "      </script>\n",
              "    </div>\n",
              "  </div>\n",
              "  "
            ]
          },
          "metadata": {},
          "execution_count": 3
        }
      ]
    },
    {
      "cell_type": "code",
      "source": [
        "df=df.drop(['ID'],axis=1)"
      ],
      "metadata": {
        "id": "Sx6hrXpJ5Jir"
      },
      "execution_count": null,
      "outputs": []
    },
    {
      "cell_type": "markdown",
      "source": [
        "##Understanding the Data"
      ],
      "metadata": {
        "id": "fWmwZhyfS2yH"
      }
    },
    {
      "cell_type": "code",
      "source": [
        "df.shape"
      ],
      "metadata": {
        "colab": {
          "base_uri": "https://localhost:8080/"
        },
        "id": "PSEqpeQkZRiJ",
        "outputId": "bdb89f56-52fb-4aae-f909-dd3992f0ffff"
      },
      "execution_count": null,
      "outputs": [
        {
          "output_type": "execute_result",
          "data": {
            "text/plain": [
              "(25000, 15)"
            ]
          },
          "metadata": {},
          "execution_count": 5
        }
      ]
    },
    {
      "cell_type": "code",
      "source": [
        "df.info()"
      ],
      "metadata": {
        "colab": {
          "base_uri": "https://localhost:8080/"
        },
        "id": "F3NrqYTeZao2",
        "outputId": "2db6f699-97db-4b17-8764-882647b3dde7"
      },
      "execution_count": null,
      "outputs": [
        {
          "output_type": "stream",
          "name": "stdout",
          "text": [
            "<class 'pandas.core.frame.DataFrame'>\n",
            "RangeIndex: 25000 entries, 0 to 24999\n",
            "Data columns (total 15 columns):\n",
            " #   Column               Non-Null Count  Dtype \n",
            "---  ------               --------------  ----- \n",
            " 0   age                  25000 non-null  int64 \n",
            " 1   work_type            25000 non-null  object\n",
            " 2   final_weight         25000 non-null  int64 \n",
            " 3   education            25000 non-null  object\n",
            " 4   total_education_yrs  25000 non-null  int64 \n",
            " 5   marital_state        25000 non-null  object\n",
            " 6   job                  25000 non-null  object\n",
            " 7   status               25000 non-null  object\n",
            " 8   ethnicity            25000 non-null  object\n",
            " 9   sex                  25000 non-null  object\n",
            " 10  capital_gain         25000 non-null  int64 \n",
            " 11  capital_loss         25000 non-null  int64 \n",
            " 12  hrs_per_week         25000 non-null  int64 \n",
            " 13  nationality          25000 non-null  object\n",
            " 14  target_income        25000 non-null  int64 \n",
            "dtypes: int64(7), object(8)\n",
            "memory usage: 2.9+ MB\n"
          ]
        }
      ]
    },
    {
      "cell_type": "markdown",
      "source": [
        "Bộ dữ liệu có 2500 quan sát và 16 biến. Trong đó có 8 biến numerical và 8 biến categorical"
      ],
      "metadata": {
        "id": "y6GmUeY7aNeI"
      }
    },
    {
      "cell_type": "code",
      "source": [
        "df.isnull().sum()"
      ],
      "metadata": {
        "colab": {
          "base_uri": "https://localhost:8080/"
        },
        "id": "ZajqzEmTZbnF",
        "outputId": "448a346f-a318-41ee-f8ca-bb822e433100"
      },
      "execution_count": null,
      "outputs": [
        {
          "output_type": "execute_result",
          "data": {
            "text/plain": [
              "age                    0\n",
              "work_type              0\n",
              "final_weight           0\n",
              "education              0\n",
              "total_education_yrs    0\n",
              "marital_state          0\n",
              "job                    0\n",
              "status                 0\n",
              "ethnicity              0\n",
              "sex                    0\n",
              "capital_gain           0\n",
              "capital_loss           0\n",
              "hrs_per_week           0\n",
              "nationality            0\n",
              "target_income          0\n",
              "dtype: int64"
            ]
          },
          "metadata": {},
          "execution_count": 7
        }
      ]
    },
    {
      "cell_type": "code",
      "source": [
        "#Kiểm tra ký tự '?' trong dataset\n",
        "def cc(x):\n",
        "    return sum(x=='?')\n",
        "df.apply(cc)"
      ],
      "metadata": {
        "colab": {
          "base_uri": "https://localhost:8080/"
        },
        "id": "fVkuYdnoZd6g",
        "outputId": "153c5b90-0294-403e-cbd6-97fd01ee0dbb"
      },
      "execution_count": null,
      "outputs": [
        {
          "output_type": "execute_result",
          "data": {
            "text/plain": [
              "age                       0\n",
              "work_type              1379\n",
              "final_weight              0\n",
              "education                 0\n",
              "total_education_yrs       0\n",
              "marital_state             0\n",
              "job                    1384\n",
              "status                    0\n",
              "ethnicity                 0\n",
              "sex                       0\n",
              "capital_gain              0\n",
              "capital_loss              0\n",
              "hrs_per_week              0\n",
              "nationality             443\n",
              "target_income             0\n",
              "dtype: int64"
            ]
          },
          "metadata": {},
          "execution_count": 8
        }
      ]
    },
    {
      "cell_type": "markdown",
      "source": [
        "Bộ dữ liệu này không có missing values nhưng có ký tự `?` trong các feature. Chúng ta cần replace chúng sang `np.nan` sau đó áp dụng các cách xử lý missing values như bình thường\n"
      ],
      "metadata": {
        "id": "cYlze6mcZvHS"
      }
    },
    {
      "cell_type": "code",
      "source": [
        "df.replace('?', np.nan, inplace = True)"
      ],
      "metadata": {
        "id": "-ulgp3jpaCoy"
      },
      "execution_count": null,
      "outputs": []
    },
    {
      "cell_type": "code",
      "source": [
        "df.isnull().sum()"
      ],
      "metadata": {
        "colab": {
          "base_uri": "https://localhost:8080/"
        },
        "id": "rnklVVfjaDY9",
        "outputId": "c3b08cb8-08de-467b-dda3-c9f63802b327"
      },
      "execution_count": null,
      "outputs": [
        {
          "output_type": "execute_result",
          "data": {
            "text/plain": [
              "age                       0\n",
              "work_type              1379\n",
              "final_weight              0\n",
              "education                 0\n",
              "total_education_yrs       0\n",
              "marital_state             0\n",
              "job                    1384\n",
              "status                    0\n",
              "ethnicity                 0\n",
              "sex                       0\n",
              "capital_gain              0\n",
              "capital_loss              0\n",
              "hrs_per_week              0\n",
              "nationality             443\n",
              "target_income             0\n",
              "dtype: int64"
            ]
          },
          "metadata": {},
          "execution_count": 10
        }
      ]
    },
    {
      "cell_type": "markdown",
      "source": [
        "##Handle Missing Values"
      ],
      "metadata": {
        "id": "EYfRsfq7S8om"
      }
    },
    {
      "cell_type": "code",
      "source": [
        "nan_cols = [i for i in df.columns if df[i].isnull().any()]\n",
        "print(nan_cols)"
      ],
      "metadata": {
        "colab": {
          "base_uri": "https://localhost:8080/"
        },
        "id": "gIfEoPGo_-7e",
        "outputId": "7bb57842-10ec-45f3-ac30-a5a433a6be0f"
      },
      "execution_count": null,
      "outputs": [
        {
          "output_type": "stream",
          "name": "stdout",
          "text": [
            "['work_type', 'job', 'nationality']\n"
          ]
        }
      ]
    },
    {
      "cell_type": "markdown",
      "source": [
        "Bộ dữ liệu này có ba features có missing values. Và cả ba đều là biến categorical nên chúng ta sẽ áp dụng kỹ thuật mode để xử lý missing values của những features này"
      ],
      "metadata": {
        "id": "8vvUkDkDD5Ei"
      }
    },
    {
      "cell_type": "code",
      "source": [
        "df['work_type'].fillna(df['work_type'].mode()[0], inplace=True)\n",
        "df['job'].fillna(df['job'].mode()[0], inplace=True)\n",
        "df['nationality'].fillna(df['nationality'].mode()[0], inplace=True)"
      ],
      "metadata": {
        "id": "TW4zW_LyANqJ"
      },
      "execution_count": null,
      "outputs": []
    },
    {
      "cell_type": "code",
      "source": [
        "df.isnull().sum()"
      ],
      "metadata": {
        "colab": {
          "base_uri": "https://localhost:8080/"
        },
        "id": "cGK2nUJwFXSG",
        "outputId": "7dff2c9c-2a79-4e46-efff-4ab752ecd373"
      },
      "execution_count": null,
      "outputs": [
        {
          "output_type": "execute_result",
          "data": {
            "text/plain": [
              "age                    0\n",
              "work_type              0\n",
              "final_weight           0\n",
              "education              0\n",
              "total_education_yrs    0\n",
              "marital_state          0\n",
              "job                    0\n",
              "status                 0\n",
              "ethnicity              0\n",
              "sex                    0\n",
              "capital_gain           0\n",
              "capital_loss           0\n",
              "hrs_per_week           0\n",
              "nationality            0\n",
              "target_income          0\n",
              "dtype: int64"
            ]
          },
          "metadata": {},
          "execution_count": 13
        }
      ]
    },
    {
      "cell_type": "code",
      "source": [
        "df['target_income'].value_counts()/len(df)"
      ],
      "metadata": {
        "colab": {
          "base_uri": "https://localhost:8080/"
        },
        "id": "5p6SAFw2aGK7",
        "outputId": "6610ede3-6bb6-480b-ff72-ac2c9e889f2e"
      },
      "execution_count": null,
      "outputs": [
        {
          "output_type": "execute_result",
          "data": {
            "text/plain": [
              "0    0.76056\n",
              "1    0.23944\n",
              "Name: target_income, dtype: float64"
            ]
          },
          "metadata": {},
          "execution_count": 14
        }
      ]
    },
    {
      "cell_type": "code",
      "source": [
        "f,ax = plt.subplots(figsize=(6,8))\n",
        "ax = sns.countplot(x='target_income', data=df, palette='Set1')\n",
        "plt.show()"
      ],
      "metadata": {
        "colab": {
          "base_uri": "https://localhost:8080/",
          "height": 498
        },
        "id": "pM--sEjqbW7y",
        "outputId": "9e0a35b8-e0a0-444f-f9aa-e346ceb7d1aa"
      },
      "execution_count": null,
      "outputs": [
        {
          "output_type": "display_data",
          "data": {
            "text/plain": [
              "<Figure size 432x576 with 1 Axes>"
            ],
            "image/png": "[encoded data removed]"
          },
          "metadata": {
            "needs_background": "light"
          }
        }
      ]
    },
    {
      "cell_type": "code",
      "source": [
        "df.describe()"
      ],
      "metadata": {
        "colab": {
          "base_uri": "https://localhost:8080/",
          "height": 300
        },
        "id": "ddQn0T33c6vy",
        "outputId": "bd9602b7-56d4-4d88-cc52-3d0ff4a360a1"
      },
      "execution_count": null,
      "outputs": [
        {
          "output_type": "execute_result",
          "data": {
            "text/plain": [
              "                age  final_weight  total_education_yrs  capital_gain  \\\n",
              "count  25000.000000  2.500000e+04         25000.000000  25000.000000   \n",
              "mean      38.568800  1.900156e+05            10.079160   1051.950240   \n",
              "std       13.642694  1.059694e+05             2.566125   7228.975017   \n",
              "min       17.000000  1.228500e+04             1.000000      0.000000   \n",
              "25%       28.000000  1.178315e+05             9.000000      0.000000   \n",
              "50%       37.000000  1.786440e+05            10.000000      0.000000   \n",
              "75%       48.000000  2.368040e+05            12.000000      0.000000   \n",
              "max       90.000000  1.484705e+06            16.000000  99999.000000   \n",
              "\n",
              "       capital_loss  hrs_per_week  target_income  \n",
              "count  25000.000000  25000.000000    25000.00000  \n",
              "mean      86.053160     40.392200        0.23944  \n",
              "std      400.535454     12.350547        0.42675  \n",
              "min        0.000000      1.000000        0.00000  \n",
              "25%        0.000000     40.000000        0.00000  \n",
              "50%        0.000000     40.000000        0.00000  \n",
              "75%        0.000000     45.000000        0.00000  \n",
              "max     4356.000000     99.000000        1.00000  "
            ],
            "text/html": [
              "\n",
              "  <div id=\"df-06c633c7-a936-40a1-b78f-da610da89d6f\">\n",
              "    <div class=\"colab-df-container\">\n",
              "      <div>\n",
              "<style scoped>\n",
              "    .dataframe tbody tr th:only-of-type {\n",
              "        vertical-align: middle;\n",
              "    }\n",
              "\n",
              "    .dataframe tbody tr th {\n",
              "        vertical-align: top;\n",
              "    }\n",
              "\n",
              "    .dataframe thead th {\n",
              "        text-align: right;\n",
              "    }\n",
              "</style>\n",
              "<table border=\"1\" class=\"dataframe\">\n",
              "  <thead>\n",
              "    <tr style=\"text-align: right;\">\n",
              "      <th></th>\n",
              "      <th>age</th>\n",
              "      <th>final_weight</th>\n",
              "      <th>total_education_yrs</th>\n",
              "      <th>capital_gain</th>\n",
              "      <th>capital_loss</th>\n",
              "      <th>hrs_per_week</th>\n",
              "      <th>target_income</th>\n",
              "    </tr>\n",
              "  </thead>\n",
              "  <tbody>\n",
              "    <tr>\n",
              "      <th>count</th>\n",
              "      <td>25000.000000</td>\n",
              "      <td>2.500000e+04</td>\n",
              "      <td>25000.000000</td>\n",
              "      <td>25000.000000</td>\n",
              "      <td>25000.000000</td>\n",
              "      <td>25000.000000</td>\n",
              "      <td>25000.00000</td>\n",
              "    </tr>\n",
              "    <tr>\n",
              "      <th>mean</th>\n",
              "      <td>38.568800</td>\n",
              "      <td>1.900156e+05</td>\n",
              "      <td>10.079160</td>\n",
              "      <td>1051.950240</td>\n",
              "      <td>86.053160</td>\n",
              "      <td>40.392200</td>\n",
              "      <td>0.23944</td>\n",
              "    </tr>\n",
              "    <tr>\n",
              "      <th>std</th>\n",
              "      <td>13.642694</td>\n",
              "      <td>1.059694e+05</td>\n",
              "      <td>2.566125</td>\n",
              "      <td>7228.975017</td>\n",
              "      <td>400.535454</td>\n",
              "      <td>12.350547</td>\n",
              "      <td>0.42675</td>\n",
              "    </tr>\n",
              "    <tr>\n",
              "      <th>min</th>\n",
              "      <td>17.000000</td>\n",
              "      <td>1.228500e+04</td>\n",
              "      <td>1.000000</td>\n",
              "      <td>0.000000</td>\n",
              "      <td>0.000000</td>\n",
              "      <td>1.000000</td>\n",
              "      <td>0.00000</td>\n",
              "    </tr>\n",
              "    <tr>\n",
              "      <th>25%</th>\n",
              "      <td>28.000000</td>\n",
              "      <td>1.178315e+05</td>\n",
              "      <td>9.000000</td>\n",
              "      <td>0.000000</td>\n",
              "      <td>0.000000</td>\n",
              "      <td>40.000000</td>\n",
              "      <td>0.00000</td>\n",
              "    </tr>\n",
              "    <tr>\n",
              "      <th>50%</th>\n",
              "      <td>37.000000</td>\n",
              "      <td>1.786440e+05</td>\n",
              "      <td>10.000000</td>\n",
              "      <td>0.000000</td>\n",
              "      <td>0.000000</td>\n",
              "      <td>40.000000</td>\n",
              "      <td>0.00000</td>\n",
              "    </tr>\n",
              "    <tr>\n",
              "      <th>75%</th>\n",
              "      <td>48.000000</td>\n",
              "      <td>2.368040e+05</td>\n",
              "      <td>12.000000</td>\n",
              "      <td>0.000000</td>\n",
              "      <td>0.000000</td>\n",
              "      <td>45.000000</td>\n",
              "      <td>0.00000</td>\n",
              "    </tr>\n",
              "    <tr>\n",
              "      <th>max</th>\n",
              "      <td>90.000000</td>\n",
              "      <td>1.484705e+06</td>\n",
              "      <td>16.000000</td>\n",
              "      <td>99999.000000</td>\n",
              "      <td>4356.000000</td>\n",
              "      <td>99.000000</td>\n",
              "      <td>1.00000</td>\n",
              "    </tr>\n",
              "  </tbody>\n",
              "</table>\n",
              "</div>\n",
              "      <button class=\"colab-df-convert\" onclick=\"convertToInteractive('df-06c633c7-a936-40a1-b78f-da610da89d6f')\"\n",
              "              title=\"Convert this dataframe to an interactive table.\"\n",
              "              style=\"display:none;\">\n",
              "        \n",
              "  <svg xmlns=\"http://www.w3.org/2000/svg\" height=\"24px\"viewBox=\"0 0 24 24\"\n",
              "       width=\"24px\">\n",
              "    <path d=\"M0 0h24v24H0V0z\" fill=\"none\"/>\n",
              "    <path d=\"M18.56 5.44l.94 2.06.94-2.06 2.06-.94-2.06-.94-.94-2.06-.94 2.06-2.06.94zm-11 1L8.5 8.5l.94-2.06 2.06-.94-2.06-.94L8.5 2.5l-.94 2.06-2.06.94zm10 10l.94 2.06.94-2.06 2.06-.94-2.06-.94-.94-2.06-.94 2.06-2.06.94z\"/><path d=\"M17.41 7.96l-1.37-1.37c-.4-.4-.92-.59-1.43-.59-.52 0-1.04.2-1.43.59L10.3 9.45l-7.72 7.72c-.78.78-.78 2.05 0 2.83L4 21.41c.39.39.9.59 1.41.59.51 0 1.02-.2 1.41-.59l7.78-7.78 2.81-2.81c.8-.78.8-2.07 0-2.86zM5.41 20L4 18.59l7.72-7.72 1.47 1.35L5.41 20z\"/>\n",
              "  </svg>\n",
              "      </button>\n",
              "      \n",
              "  <style>\n",
              "    .colab-df-container {\n",
              "      display:flex;\n",
              "      flex-wrap:wrap;\n",
              "      gap: 12px;\n",
              "    }\n",
              "\n",
              "    .colab-df-convert {\n",
              "      background-color: #E8F0FE;\n",
              "      border: none;\n",
              "      border-radius: 50%;\n",
              "      cursor: pointer;\n",
              "      display: none;\n",
              "      fill: #1967D2;\n",
              "      height: 32px;\n",
              "      padding: 0 0 0 0;\n",
              "      width: 32px;\n",
              "    }\n",
              "\n",
              "    .colab-df-convert:hover {\n",
              "      background-color: #E2EBFA;\n",
              "      box-shadow: 0px 1px 2px rgba(60, 64, 67, 0.3), 0px 1px 3px 1px rgba(60, 64, 67, 0.15);\n",
              "      fill: #174EA6;\n",
              "    }\n",
              "\n",
              "    [theme=dark] .colab-df-convert {\n",
              "      background-color: #3B4455;\n",
              "      fill: #D2E3FC;\n",
              "    }\n",
              "\n",
              "    [theme=dark] .colab-df-convert:hover {\n",
              "      background-color: #434B5C;\n",
              "      box-shadow: 0px 1px 3px 1px rgba(0, 0, 0, 0.15);\n",
              "      filter: drop-shadow(0px 1px 2px rgba(0, 0, 0, 0.3));\n",
              "      fill: #FFFFFF;\n",
              "    }\n",
              "  </style>\n",
              "\n",
              "      <script>\n",
              "        const buttonEl =\n",
              "          document.querySelector('#df-06c633c7-a936-40a1-b78f-da610da89d6f button.colab-df-convert');\n",
              "        buttonEl.style.display =\n",
              "          google.colab.kernel.accessAllowed ? 'block' : 'none';\n",
              "\n",
              "        async function convertToInteractive(key) {\n",
              "          const element = document.querySelector('#df-06c633c7-a936-40a1-b78f-da610da89d6f');\n",
              "          const dataTable =\n",
              "            await google.colab.kernel.invokeFunction('convertToInteractive',\n",
              "                                                     [key], {});\n",
              "          if (!dataTable) return;\n",
              "\n",
              "          const docLinkHtml = 'Like what you see? Visit the ' +\n",
              "            '<a target=\"_blank\" href=https://colab.research.google.com/notebooks/data_table.ipynb>data table notebook</a>'\n",
              "            + ' to learn more about interactive tables.';\n",
              "          element.innerHTML = '';\n",
              "          dataTable['output_type'] = 'display_data';\n",
              "          await google.colab.output.renderOutput(dataTable, element);\n",
              "          const docLink = document.createElement('div');\n",
              "          docLink.innerHTML = docLinkHtml;\n",
              "          element.appendChild(docLink);\n",
              "        }\n",
              "      </script>\n",
              "    </div>\n",
              "  </div>\n",
              "  "
            ]
          },
          "metadata": {},
          "execution_count": 16
        }
      ]
    },
    {
      "cell_type": "markdown",
      "source": [
        "Kết quả thống kê mô tả sơ bộ trên các biến numeric cho thấy các biến khác biệt nhau về độ lớn đơn vị. Trung bình thấp nhất là 10.079 và cao nhất lên tới 190015.63. Như vậy khả năng cao chúng ta sẽ cần phải chuẩn hoá các biến để loại bỏ sự khác biệt về đơn vị trước khi xây dựng mô hình. "
      ],
      "metadata": {
        "id": "bPhJo7bcSbCj"
      }
    },
    {
      "cell_type": "markdown",
      "source": [
        "##Visualization"
      ],
      "metadata": {
        "id": "cufN4k1WKP01"
      }
    },
    {
      "cell_type": "code",
      "source": [
        "plt.hist(df['age']);"
      ],
      "metadata": {
        "colab": {
          "base_uri": "https://localhost:8080/",
          "height": 269
        },
        "id": "LQlbMB-AKUdP",
        "outputId": "76a6a974-c94e-4f48-acf9-d36478d5fafb"
      },
      "execution_count": null,
      "outputs": [
        {
          "output_type": "display_data",
          "data": {
            "text/plain": [
              "<Figure size 432x288 with 1 Axes>"
            ],
            "image/png": "[encoded data removed]"
          },
          "metadata": {
            "needs_background": "light"
          }
        }
      ]
    },
    {
      "cell_type": "code",
      "source": [
        "df['age'] = pd.cut(df['age'], 6, labels = [1,2,3,4,5,6])\n",
        "df.age.hist()"
      ],
      "metadata": {
        "colab": {
          "base_uri": "https://localhost:8080/",
          "height": 282
        },
        "id": "4Zm11zNPrcJx",
        "outputId": "9292c5d8-3f89-46a6-f688-58856ec35402"
      },
      "execution_count": null,
      "outputs": [
        {
          "output_type": "execute_result",
          "data": {
            "text/plain": [
              "<matplotlib.axes._subplots.AxesSubplot at 0x7fa546209310>"
            ]
          },
          "metadata": {},
          "execution_count": 18
        },
        {
          "output_type": "display_data",
          "data": {
            "text/plain": [
              "<Figure size 432x288 with 1 Axes>"
            ],
            "image/png": "[encoded data removed]"
          },
          "metadata": {
            "needs_background": "light"
          }
        }
      ]
    },
    {
      "cell_type": "code",
      "source": [
        "#work_type vs target_incom\n",
        "sns.countplot(x = 'work_type', hue = 'target_income', data = df)\n",
        "plt.xticks(rotation=45);"
      ],
      "metadata": {
        "colab": {
          "base_uri": "https://localhost:8080/",
          "height": 335
        },
        "id": "n7gjcBpyKPCO",
        "outputId": "e1f2a38a-e10b-44f2-e960-72955299ccc7"
      },
      "execution_count": null,
      "outputs": [
        {
          "output_type": "display_data",
          "data": {
            "text/plain": [
              "<Figure size 432x288 with 1 Axes>"
            ],
            "image/png": "[encoded data removed]"
          },
          "metadata": {
            "needs_background": "light"
          }
        }
      ]
    },
    {
      "cell_type": "code",
      "source": [
        "#education vs target_incom\n",
        "sns.countplot(x = 'education', hue = 'target_income', data = df)\n",
        "plt.xticks(rotation=45);"
      ],
      "metadata": {
        "colab": {
          "base_uri": "https://localhost:8080/",
          "height": 325
        },
        "id": "F2OTFAusKa7I",
        "outputId": "7b4c3fc8-a537-46cd-9da7-0b4704396b21"
      },
      "execution_count": null,
      "outputs": [
        {
          "output_type": "display_data",
          "data": {
            "text/plain": [
              "<Figure size 432x288 with 1 Axes>"
            ],
            "image/png": "[encoded data removed]"
          },
          "metadata": {
            "needs_background": "light"
          }
        }
      ]
    },
    {
      "cell_type": "code",
      "source": [
        "#explore which country do most people belong\n",
        "plt.figure(figsize=(38,14))\n",
        "sns.countplot(x='nationality',data= df)\n",
        "plt.show()"
      ],
      "metadata": {
        "colab": {
          "base_uri": "https://localhost:8080/",
          "height": 361
        },
        "id": "PGunSL3AMSAQ",
        "outputId": "b54169a4-5c76-427e-ca0f-926b3afc7983"
      },
      "execution_count": null,
      "outputs": [
        {
          "output_type": "display_data",
          "data": {
            "text/plain": [
              "<Figure size 2736x1008 with 1 Axes>"
            ],
            "image/png": "[encoded data removed]"
          },
          "metadata": {
            "needs_background": "light"
          }
        }
      ]
    },
    {
      "cell_type": "markdown",
      "source": [
        "Các quan sát từ `US` khá nhiều nên chúng ta có thể gộp các nước khác thành `Other`"
      ],
      "metadata": {
        "id": "yKre_aCJMZPr"
      }
    },
    {
      "cell_type": "code",
      "source": [
        "df.loc[df['nationality']!='US','nationality'] = 'Other'\n",
        "plt.figure(figsize=(3,3))\n",
        "sns.countplot(x='nationality',data=df)\n",
        "plt.show()"
      ],
      "metadata": {
        "colab": {
          "base_uri": "https://localhost:8080/",
          "height": 225
        },
        "id": "bURb8NYfMdcU",
        "outputId": "155e4e8a-c228-4633-8cb0-75224a0400e8"
      },
      "execution_count": null,
      "outputs": [
        {
          "output_type": "display_data",
          "data": {
            "text/plain": [
              "<Figure size 216x216 with 1 Axes>"
            ],
            "image/png": "[encoded data removed]"
          },
          "metadata": {
            "needs_background": "light"
          }
        }
      ]
    },
    {
      "cell_type": "code",
      "source": [
        "# Income >50K Probability with work_type\n",
        "g = sns.catplot(x='work_type',y='target_income',data=df,kind='bar',height=6)\n",
        "plt.xticks(rotation=45)\n",
        "g.despine(left=True)\n",
        "g = g.set_ylabels(\"Income >50K Probability\")\n",
        "plt.show()"
      ],
      "metadata": {
        "colab": {
          "base_uri": "https://localhost:8080/",
          "height": 497
        },
        "id": "GoVl9WC6MorO",
        "outputId": "08bf5933-d25b-4749-d23d-ea3d4ff674d7"
      },
      "execution_count": null,
      "outputs": [
        {
          "output_type": "display_data",
          "data": {
            "text/plain": [
              "<Figure size 432x432 with 1 Axes>"
            ],
            "image/png": "[encoded data removed]"
          },
          "metadata": {
            "needs_background": "light"
          }
        }
      ]
    },
    {
      "cell_type": "code",
      "source": [
        "# Income >50K Probability with Total Edu Years\n",
        "g = sns.catplot(x='total_education_yrs',y='target_income',data= df,kind='bar',height=6)\n",
        "g.despine(left=True)\n",
        "g = g.set_ylabels(\"Income >50K Probability\")\n",
        "plt.show()"
      ],
      "metadata": {
        "colab": {
          "base_uri": "https://localhost:8080/",
          "height": 441
        },
        "id": "hyv_4a8gMt53",
        "outputId": "5a5eac10-62ab-41f7-bb5d-ea8e762de792"
      },
      "execution_count": null,
      "outputs": [
        {
          "output_type": "display_data",
          "data": {
            "text/plain": [
              "<Figure size 432x432 with 1 Axes>"
            ],
            "image/png": "[encoded data removed]"
          },
          "metadata": {
            "needs_background": "light"
          }
        }
      ]
    },
    {
      "cell_type": "markdown",
      "source": [
        "Trình độ học vấn càng cao thì thu nhập càng cao (Điều này khá rõ ràng)"
      ],
      "metadata": {
        "id": "eNu-2taSNWpH"
      }
    },
    {
      "cell_type": "code",
      "source": [
        "# Income >50K Probability with marital_state\n",
        "g = sns.catplot(x='marital_state',y='target_income',data=df,kind='bar',height=8)\n",
        "plt.xticks(rotation=45)\n",
        "g.despine(left=True)\n",
        "g = g.set_ylabels(\"Income >50K Probability\")\n",
        "plt.show();"
      ],
      "metadata": {
        "colab": {
          "base_uri": "https://localhost:8080/",
          "height": 664
        },
        "id": "Puixom0XNXW4",
        "outputId": "7aaec356-a2c6-4642-f589-bc0da5b4ed65"
      },
      "execution_count": null,
      "outputs": [
        {
          "output_type": "display_data",
          "data": {
            "text/plain": [
              "<Figure size 576x576 with 1 Axes>"
            ],
            "image/png": "[encoded data removed]"
          },
          "metadata": {
            "needs_background": "light"
          }
        }
      ]
    },
    {
      "cell_type": "code",
      "source": [
        "# Income >50K Probability with status\n",
        "g = sns.catplot(x='status',y='target_income',data=df,kind='bar',size=7)\n",
        "g.despine(left=True)\n",
        "g = g.set_ylabels(\"Income >50K Probability\")\n",
        "plt.show();"
      ],
      "metadata": {
        "colab": {
          "base_uri": "https://localhost:8080/",
          "height": 568
        },
        "id": "opPeE1hDNXaK",
        "outputId": "aa200804-565e-4c40-9693-e6aecb621f7b"
      },
      "execution_count": null,
      "outputs": [
        {
          "output_type": "stream",
          "name": "stderr",
          "text": [
            "/usr/local/lib/python3.7/dist-packages/seaborn/categorical.py:3750: UserWarning: The `size` parameter has been renamed to `height`; please update your code.\n",
            "  warnings.warn(msg, UserWarning)\n"
          ]
        },
        {
          "output_type": "display_data",
          "data": {
            "text/plain": [
              "<Figure size 504x504 with 1 Axes>"
            ],
            "image/png": "[encoded data removed]"
          },
          "metadata": {
            "needs_background": "light"
          }
        }
      ]
    },
    {
      "cell_type": "markdown",
      "source": [
        "#Spliting the data"
      ],
      "metadata": {
        "id": "6UOyejWkTEJ5"
      }
    },
    {
      "cell_type": "code",
      "source": [
        "X = df.drop('target_income', axis=1)\n",
        "y = df['target_income']"
      ],
      "metadata": {
        "id": "SJYzPlWvNXdh"
      },
      "execution_count": null,
      "outputs": []
    },
    {
      "cell_type": "code",
      "source": [
        "df_all_one_hot = pd.get_dummies(X)\n",
        "X = df_all_one_hot.columns.tolist()\n",
        "y = y.values"
      ],
      "metadata": {
        "id": "59L7Hzq6NXhE"
      },
      "execution_count": null,
      "outputs": []
    },
    {
      "cell_type": "code",
      "source": [
        "X_train, X_test, y_train, y_test = train_test_split(df_all_one_hot[X].values, # input variable\n",
        "                                                    y, # output variable\n",
        "                                                    test_size=0.2, # test dataset proportion\n",
        "                                                    random_state=0) # keep train/test split the same if run again. \n",
        "print ('Training Set: %d, Test Set: %d \\n' % (len(X_train), len(X_test)))\n",
        "#normalize\n",
        "sc = StandardScaler()\n",
        "X_train = sc.fit_transform(X_train)\n",
        "X_test = sc.transform(X_test)"
      ],
      "metadata": {
        "colab": {
          "base_uri": "https://localhost:8080/"
        },
        "id": "sg9xInGZNXk_",
        "outputId": "eaa16888-def2-4409-ca9b-772c64af5900"
      },
      "execution_count": null,
      "outputs": [
        {
          "output_type": "stream",
          "name": "stdout",
          "text": [
            "Training Set: 20000, Test Set: 5000 \n",
            "\n"
          ]
        }
      ]
    },
    {
      "cell_type": "code",
      "source": [
        "import pickle\n",
        "def _save_pkl(path, obj):\n",
        "  with open(path, 'wb') as f:\n",
        "    pickle.dump(obj, f)\n",
        "def _load_pkl(path):\n",
        "  with open(path, 'rb') as f:\n",
        "    obj = pickle.load(f)\n",
        "  return obj\n",
        "_save_pkl('scaler.pkl', sc)"
      ],
      "metadata": {
        "id": "TcrLIMnmTpJY"
      },
      "execution_count": null,
      "outputs": []
    },
    {
      "cell_type": "code",
      "source": [
        "#metric\n",
        "def get_metrics(y_test, y_pred):\n",
        "    print('ACCURACY_SCORE: ', round(accuracy_score(y_test, y_pred), 4))\n",
        "    print('F1_SCORE: ', round(f1_score(y_test, y_pred, average='macro'), 4))\n",
        "    print('CONFUSION_MATRIX:\\n', confusion_matrix(y_test, y_pred),'\\n')\n",
        "    print(classification_report(y_test, y_pred, digits=4), '\\n')"
      ],
      "metadata": {
        "id": "xskwu5DQ-LQ1"
      },
      "execution_count": null,
      "outputs": []
    },
    {
      "cell_type": "code",
      "source": [
        "# Create a dataset and loader for the training data and labels\n",
        "train_X = torch.Tensor(X_train).float()\n",
        "train_y = torch.Tensor(y_train).float()\n",
        "train_ds = td.TensorDataset(train_X,train_y)\n",
        "\n",
        "# Create a dataset and loader for the test data and labels\n",
        "test_X = torch.Tensor(X_test).float()\n",
        "test_y = torch.Tensor(y_test).float()\n",
        "test_ds = td.TensorDataset(test_X,test_y)\n",
        "print('Ready to load data')"
      ],
      "metadata": {
        "id": "ZdUi7cSAUuey",
        "colab": {
          "base_uri": "https://localhost:8080/"
        },
        "outputId": "0ca58502-2400-434a-eaa8-c11a3b1bea0f"
      },
      "execution_count": null,
      "outputs": [
        {
          "output_type": "stream",
          "name": "stdout",
          "text": [
            "Ready to load data\n"
          ]
        }
      ]
    },
    {
      "cell_type": "markdown",
      "source": [
        "# Build up model architecture"
      ],
      "metadata": {
        "id": "U8uFgmQY6AMl"
      }
    },
    {
      "cell_type": "code",
      "source": [
        "# Number of hidden layer nodes\n",
        "hl = 10\n",
        "\n",
        "# Define the neural network\n",
        "class Model(nn.Module):\n",
        "    def __init__(self):\n",
        "        super(Model, self).__init__()\n",
        "        self.fc1 = nn.Linear(len(X), hl)\n",
        "        self.bn1 = nn.BatchNorm1d(hl)\n",
        "        self.fc2 = nn.Linear(hl, hl)\n",
        "        self.bn2 = nn.BatchNorm1d(hl)\n",
        "        self.fc3 = nn.Linear(hl, 6)\n",
        "        self.bn3 = nn.BatchNorm1d(6)\n",
        "        self.drop = nn.Dropout(0.5)\n",
        "        self.fc4 = nn.Linear(6, 1)\n",
        "        self.acts = [nn.ReLU(), nn.ReLU(), nn.Sigmoid()] # List activation khác nhau\n",
        "\n",
        "    def forward(self, x):\n",
        "        x = self.acts[0](self.fc1(x))\n",
        "        x = self.bn1(x)\n",
        "        x = self.acts[1](self.fc2(x))\n",
        "        x = self.bn2(x)\n",
        "        x = self.acts[2](self.fc3(x))\n",
        "        x = self.bn3(x)\n",
        "        x = self.drop(x)\n",
        "        x = torch.sigmoid(self.fc4(x)) # trả về 1 unit thể hiện xs dự báo P(y=1|X)\n",
        "        return x\n",
        "\n",
        "# Create a model instance from the network\n",
        "model = Model()\n",
        "print(model)"
      ],
      "metadata": {
        "id": "_45TJwg3Uunc",
        "colab": {
          "base_uri": "https://localhost:8080/"
        },
        "outputId": "c2615536-5958-4e54-a8fe-02eff1c37241"
      },
      "execution_count": null,
      "outputs": [
        {
          "output_type": "stream",
          "name": "stdout",
          "text": [
            "Model(\n",
            "  (fc1): Linear(in_features=71, out_features=10, bias=True)\n",
            "  (bn1): BatchNorm1d(10, eps=1e-05, momentum=0.1, affine=True, track_running_stats=True)\n",
            "  (fc2): Linear(in_features=10, out_features=10, bias=True)\n",
            "  (bn2): BatchNorm1d(10, eps=1e-05, momentum=0.1, affine=True, track_running_stats=True)\n",
            "  (fc3): Linear(in_features=10, out_features=6, bias=True)\n",
            "  (bn3): BatchNorm1d(6, eps=1e-05, momentum=0.1, affine=True, track_running_stats=True)\n",
            "  (drop): Dropout(p=0.5, inplace=False)\n",
            "  (fc4): Linear(in_features=6, out_features=1, bias=True)\n",
            ")\n"
          ]
        }
      ]
    },
    {
      "cell_type": "markdown",
      "source": [
        "# Initialize weight and optimizer"
      ],
      "metadata": {
        "id": "TV5kO_v58mVW"
      }
    },
    {
      "cell_type": "code",
      "source": [
        "from torch import nn\n",
        "def init_weights(m, init_type = 'xavier'):\n",
        "    if type(m) == nn.Linear:\n",
        "      if init_type == 'xavier':\n",
        "        torch.nn.init.xavier_uniform_(m.weight)\n",
        "        m.bias.data.fill_(0.01)\n",
        "      elif init_type == 'normal':\n",
        "        torch.nn.init.normal_(m.weight)\n",
        "        m.bias.data.fill_(0.01)\n",
        "      elif init_type == 'he':\n",
        "        torch.nn.init.kaiming_uniform_(m.weight)\n",
        "        m.bias.data.fill_(0.01)"
      ],
      "metadata": {
        "id": "GTr_wCcTUuuh"
      },
      "execution_count": null,
      "outputs": []
    },
    {
      "cell_type": "markdown",
      "source": [
        "## Khởi tạo hệ số theo `normal`"
      ],
      "metadata": {
        "id": "_X_23GKXybFy"
      }
    },
    {
      "cell_type": "code",
      "source": [
        "model.apply(lambda m: init_weights(m, init_type = 'normal'))"
      ],
      "metadata": {
        "colab": {
          "base_uri": "https://localhost:8080/"
        },
        "id": "xYf31fZq86HJ",
        "outputId": "601cff7d-9e14-48ce-e6ab-fa61293e380a"
      },
      "execution_count": null,
      "outputs": [
        {
          "output_type": "execute_result",
          "data": {
            "text/plain": [
              "Model(\n",
              "  (fc1): Linear(in_features=71, out_features=10, bias=True)\n",
              "  (bn1): BatchNorm1d(10, eps=1e-05, momentum=0.1, affine=True, track_running_stats=True)\n",
              "  (fc2): Linear(in_features=10, out_features=10, bias=True)\n",
              "  (bn2): BatchNorm1d(10, eps=1e-05, momentum=0.1, affine=True, track_running_stats=True)\n",
              "  (fc3): Linear(in_features=10, out_features=6, bias=True)\n",
              "  (bn3): BatchNorm1d(6, eps=1e-05, momentum=0.1, affine=True, track_running_stats=True)\n",
              "  (drop): Dropout(p=0.5, inplace=False)\n",
              "  (fc4): Linear(in_features=6, out_features=1, bias=True)\n",
              ")"
            ]
          },
          "metadata": {},
          "execution_count": 36
        }
      ]
    },
    {
      "cell_type": "code",
      "source": [
        "# Quá trình train\n",
        "\n",
        "def train(model, data_loader, optimizer):\n",
        "  # Set mode cho mô hình\n",
        "    model.train() # Đặt mô hình ở trạng thái huấn luyện\n",
        "    train_loss = 0 # Khai báo loss function = 0\n",
        "    \n",
        "    for batch, tensor in enumerate(data_loader): #load batch và tensor\n",
        "        data, target = tensor\n",
        "\n",
        "        # feedforward: tính toán y_pred và loss function\n",
        "        optimizer.zero_grad() # sau mỗi vòng lặp cập nhật GD về 0 tránh TH cộng dồn của nhiều mini-batch trước đó\n",
        "        # Giá trị dự báo\n",
        "        out = model(data)\n",
        "        # Tính loss\n",
        "        loss = loss_criteria(out, target.reshape(-1,1))\n",
        "        train_loss += loss.item()\n",
        "\n",
        "        #backpropagation:\n",
        "        loss.backward() # Tính gradient descent\n",
        "        optimizer.step() # cập nhật trọng số cho mô hình\n",
        "    # trả về trung bình loss\n",
        "    avg_loss = train_loss / (batch+1)\n",
        "    print('Training set: Average loss: {:.6f}'.format(avg_loss))\n",
        "    return avg_loss\n",
        "           \n",
        "# Quá trình test          \n",
        "def test(model, data_loader):\n",
        "\n",
        "    model.eval()\n",
        "    test_loss = 0\n",
        "    correct = 0\n",
        "\n",
        "    with torch.no_grad(): # ngăn chặn việc sử dụng gd của các mini-batch trước đó\n",
        "        batch_count = 0\n",
        "        for batch, tensor in enumerate(data_loader):\n",
        "            batch_count += 1\n",
        "            data, target = tensor\n",
        "            # Dự báo\n",
        "            out = model(data)\n",
        "\n",
        "            # tính loss\n",
        "            test_loss += loss_criteria(out, target.reshape(-1,1)).item()\n",
        "\n",
        "            # Tính accuracy\n",
        "            predicted = [1 if i>0.5 else 0 for i in out.data]\n",
        "            predicted = torch.tensor(predicted)\n",
        "\n",
        "            correct += torch.sum(target==predicted).item()\n",
        "            \n",
        "    # Tính trung bình loss and tổng accuracy cho epoch đang huấn luyện\n",
        "    avg_loss = test_loss/batch_count\n",
        "    print('Validation set: Average loss: {:.6f}, Accuracy: {}/{} ({:.0f}%)\\n'.format(\n",
        "        avg_loss, correct, len(data_loader.dataset),\n",
        "        100. * correct / len(data_loader.dataset)))\n",
        "    \n",
        "    # trả về trung bình loss của epoch\n",
        "    return avg_loss"
      ],
      "metadata": {
        "id": "eh-niRsz8_IO"
      },
      "execution_count": null,
      "outputs": []
    },
    {
      "cell_type": "markdown",
      "source": [
        "## Thay đổi loss function, optimizer, batch_size"
      ],
      "metadata": {
        "id": "NwkbVyb99Hq5"
      }
    },
    {
      "cell_type": "code",
      "source": [
        "train_loader = td.DataLoader(train_ds, batch_size=64,\n",
        "    shuffle=True, num_workers=2)\n",
        "test_loader = td.DataLoader(test_ds, batch_size=64,\n",
        "    shuffle=False, num_workers=2)"
      ],
      "metadata": {
        "id": "gRvJJDA_9G1C"
      },
      "execution_count": null,
      "outputs": []
    },
    {
      "cell_type": "markdown",
      "source": [
        "## Khởi tạo hệ số theo `he`"
      ],
      "metadata": {
        "id": "WpoRp9fD9Owt"
      }
    },
    {
      "cell_type": "code",
      "source": [
        "model.apply(lambda m: init_weights(m, init_type = 'he'))"
      ],
      "metadata": {
        "colab": {
          "base_uri": "https://localhost:8080/"
        },
        "id": "ZkAI7Pye9MZi",
        "outputId": "edd57005-68c1-4140-ad96-25e9efee2a15"
      },
      "execution_count": null,
      "outputs": [
        {
          "output_type": "execute_result",
          "data": {
            "text/plain": [
              "Model(\n",
              "  (fc1): Linear(in_features=71, out_features=10, bias=True)\n",
              "  (bn1): BatchNorm1d(10, eps=1e-05, momentum=0.1, affine=True, track_running_stats=True)\n",
              "  (fc2): Linear(in_features=10, out_features=10, bias=True)\n",
              "  (bn2): BatchNorm1d(10, eps=1e-05, momentum=0.1, affine=True, track_running_stats=True)\n",
              "  (fc3): Linear(in_features=10, out_features=6, bias=True)\n",
              "  (bn3): BatchNorm1d(6, eps=1e-05, momentum=0.1, affine=True, track_running_stats=True)\n",
              "  (drop): Dropout(p=0.5, inplace=False)\n",
              "  (fc4): Linear(in_features=6, out_features=1, bias=True)\n",
              ")"
            ]
          },
          "metadata": {},
          "execution_count": 39
        }
      ]
    },
    {
      "cell_type": "code",
      "source": [
        "loss_criteria = nn.HuberLoss() # có thể dùng nn.BCELoss(), CrossEntropyLoss()\n",
        "learning_rate = 0.003\n",
        "optimizer = torch.optim.Adam(model.parameters(), lr=learning_rate)\n",
        "optimizer.zero_grad() # Thiết lập gd về 0\n",
        "epoch_nums = []\n",
        "training_loss = []\n",
        "validation_loss = []\n",
        "epochs = 30\n",
        "for epoch in range(1, epochs + 1):\n",
        "    # print the epoch number\n",
        "    print('Epoch: {}'.format(epoch))\n",
        "    \n",
        "    # Lấy dữ liệu từ train_loader fit vào model và cập nhật gd qua optimizer\n",
        "    train_loss = train(model, train_loader, optimizer)\n",
        "    \n",
        "    # Feed the test data into the model to check its performance\n",
        "    test_loss = test(model, test_loader)\n",
        "    \n",
        "    # Log the metrics for this epoch\n",
        "    epoch_nums.append(epoch)\n",
        "    training_loss.append(train_loss)\n",
        "    validation_loss.append(test_loss)"
      ],
      "metadata": {
        "colab": {
          "base_uri": "https://localhost:8080/"
        },
        "id": "P8AHxsIm9fl3",
        "outputId": "da274ef6-3240-48aa-9239-4372a8ba2fc5"
      },
      "execution_count": null,
      "outputs": [
        {
          "output_type": "stream",
          "name": "stdout",
          "text": [
            "Epoch: 1\n",
            "Training set: Average loss: 0.082087\n",
            "Validation set: Average loss: 0.053129, Accuracy: 4248/5000 (85%)\n",
            "\n",
            "Epoch: 2\n",
            "Training set: Average loss: 0.059063\n",
            "Validation set: Average loss: 0.052215, Accuracy: 4223/5000 (84%)\n",
            "\n",
            "Epoch: 3\n",
            "Training set: Average loss: 0.056740\n",
            "Validation set: Average loss: 0.050817, Accuracy: 4251/5000 (85%)\n",
            "\n",
            "Epoch: 4\n",
            "Training set: Average loss: 0.055739\n",
            "Validation set: Average loss: 0.050329, Accuracy: 4267/5000 (85%)\n",
            "\n",
            "Epoch: 5\n",
            "Training set: Average loss: 0.055546\n",
            "Validation set: Average loss: 0.051251, Accuracy: 4231/5000 (85%)\n",
            "\n",
            "Epoch: 6\n",
            "Training set: Average loss: 0.055309\n",
            "Validation set: Average loss: 0.050825, Accuracy: 4242/5000 (85%)\n",
            "\n",
            "Epoch: 7\n",
            "Training set: Average loss: 0.054858\n",
            "Validation set: Average loss: 0.051145, Accuracy: 4243/5000 (85%)\n",
            "\n",
            "Epoch: 8\n",
            "Training set: Average loss: 0.055051\n",
            "Validation set: Average loss: 0.052254, Accuracy: 4251/5000 (85%)\n",
            "\n",
            "Epoch: 9\n",
            "Training set: Average loss: 0.054149\n",
            "Validation set: Average loss: 0.050847, Accuracy: 4257/5000 (85%)\n",
            "\n",
            "Epoch: 10\n",
            "Training set: Average loss: 0.053801\n",
            "Validation set: Average loss: 0.050032, Accuracy: 4264/5000 (85%)\n",
            "\n",
            "Epoch: 11\n",
            "Training set: Average loss: 0.054373\n",
            "Validation set: Average loss: 0.050581, Accuracy: 4257/5000 (85%)\n",
            "\n",
            "Epoch: 12\n",
            "Training set: Average loss: 0.053728\n",
            "Validation set: Average loss: 0.049860, Accuracy: 4266/5000 (85%)\n",
            "\n",
            "Epoch: 13\n",
            "Training set: Average loss: 0.053597\n",
            "Validation set: Average loss: 0.050415, Accuracy: 4257/5000 (85%)\n",
            "\n",
            "Epoch: 14\n",
            "Training set: Average loss: 0.053305\n",
            "Validation set: Average loss: 0.049940, Accuracy: 4263/5000 (85%)\n",
            "\n",
            "Epoch: 15\n",
            "Training set: Average loss: 0.052968\n",
            "Validation set: Average loss: 0.051613, Accuracy: 4241/5000 (85%)\n",
            "\n",
            "Epoch: 16\n",
            "Training set: Average loss: 0.053178\n",
            "Validation set: Average loss: 0.049794, Accuracy: 4259/5000 (85%)\n",
            "\n",
            "Epoch: 17\n",
            "Training set: Average loss: 0.053027\n",
            "Validation set: Average loss: 0.051560, Accuracy: 4260/5000 (85%)\n",
            "\n",
            "Epoch: 18\n",
            "Training set: Average loss: 0.052923\n",
            "Validation set: Average loss: 0.050913, Accuracy: 4255/5000 (85%)\n",
            "\n",
            "Epoch: 19\n",
            "Training set: Average loss: 0.052962\n",
            "Validation set: Average loss: 0.050482, Accuracy: 4259/5000 (85%)\n",
            "\n",
            "Epoch: 20\n",
            "Training set: Average loss: 0.052605\n",
            "Validation set: Average loss: 0.053283, Accuracy: 4202/5000 (84%)\n",
            "\n",
            "Epoch: 21\n",
            "Training set: Average loss: 0.052617\n",
            "Validation set: Average loss: 0.050605, Accuracy: 4258/5000 (85%)\n",
            "\n",
            "Epoch: 22\n",
            "Training set: Average loss: 0.052424\n",
            "Validation set: Average loss: 0.051270, Accuracy: 4244/5000 (85%)\n",
            "\n",
            "Epoch: 23\n",
            "Training set: Average loss: 0.052079\n",
            "Validation set: Average loss: 0.053810, Accuracy: 4207/5000 (84%)\n",
            "\n",
            "Epoch: 24\n",
            "Training set: Average loss: 0.052334\n",
            "Validation set: Average loss: 0.049994, Accuracy: 4267/5000 (85%)\n",
            "\n",
            "Epoch: 25\n",
            "Training set: Average loss: 0.052476\n",
            "Validation set: Average loss: 0.050818, Accuracy: 4259/5000 (85%)\n",
            "\n",
            "Epoch: 26\n",
            "Training set: Average loss: 0.051843\n",
            "Validation set: Average loss: 0.050116, Accuracy: 4273/5000 (85%)\n",
            "\n",
            "Epoch: 27\n",
            "Training set: Average loss: 0.051781\n",
            "Validation set: Average loss: 0.051043, Accuracy: 4263/5000 (85%)\n",
            "\n",
            "Epoch: 28\n",
            "Training set: Average loss: 0.052101\n",
            "Validation set: Average loss: 0.050482, Accuracy: 4244/5000 (85%)\n",
            "\n",
            "Epoch: 29\n",
            "Training set: Average loss: 0.052012\n",
            "Validation set: Average loss: 0.050424, Accuracy: 4256/5000 (85%)\n",
            "\n",
            "Epoch: 30\n",
            "Training set: Average loss: 0.051594\n",
            "Validation set: Average loss: 0.051109, Accuracy: 4249/5000 (85%)\n",
            "\n"
          ]
        }
      ]
    },
    {
      "cell_type": "markdown",
      "source": [
        "## Eveluate on test with `he`"
      ],
      "metadata": {
        "id": "6hk13gIFsQP5"
      }
    },
    {
      "cell_type": "code",
      "source": [
        "import matplotlib.pyplot as plt\n",
        "%matplotlib inline\n",
        "def _evaluate(model, x_test):\n",
        "  model.eval()\n",
        "  x = torch.Tensor(x_test).float()\n",
        "  predictions = [1 if i>0.5 else 0 for i in model(x).data]\n",
        "  predictions = torch.tensor(predictions)\n",
        "  print('Evaluation on test dataset')\n",
        "  get_metrics(y_test, predictions)\n",
        "\n",
        "  # Plot the confusion matrix\n",
        "  classes=['0','1']\n",
        "  cm = confusion_matrix(y_test, predictions)\n",
        "  plt.imshow(cm, interpolation=\"nearest\", cmap=plt.cm.Blues)\n",
        "  plt.colorbar()\n",
        "  tick_marks = np.arange(2)\n",
        "  plt.xticks(tick_marks, classes, rotation=85)\n",
        "  plt.yticks(tick_marks, classes)\n",
        "  plt.xlabel(\"Predicted\")\n",
        "  plt.ylabel(\"Actual\")\n",
        "  plt.show()\n",
        "_evaluate(model, X_test)"
      ],
      "metadata": {
        "colab": {
          "base_uri": "https://localhost:8080/",
          "height": 572
        },
        "id": "epGADcTX9-M-",
        "outputId": "14277a00-37b4-4705-b265-c594431c152f"
      },
      "execution_count": null,
      "outputs": [
        {
          "output_type": "stream",
          "name": "stdout",
          "text": [
            "Evaluation on test dataset\n",
            "ACCURACY_SCORE:  0.8498\n",
            "F1_SCORE:  0.769\n",
            "CONFUSION_MATRIX:\n",
            " [[3603  208]\n",
            " [ 543  646]] \n",
            "\n",
            "              precision    recall  f1-score   support\n",
            "\n",
            "           0     0.8690    0.9454    0.9056      3811\n",
            "           1     0.7564    0.5433    0.6324      1189\n",
            "\n",
            "    accuracy                         0.8498      5000\n",
            "   macro avg     0.8127    0.7444    0.7690      5000\n",
            "weighted avg     0.8423    0.8498    0.8406      5000\n",
            " \n",
            "\n"
          ]
        },
        {
          "output_type": "display_data",
          "data": {
            "text/plain": [
              "<Figure size 432x288 with 2 Axes>"
            ],
            "image/png": "[encoded data removed]"
          },
          "metadata": {
            "needs_background": "light"
          }
        }
      ]
    },
    {
      "cell_type": "markdown",
      "source": [
        "## Khởi tạo hệ số theo `xavier`"
      ],
      "metadata": {
        "id": "Q2FpTKb8DRJO"
      }
    },
    {
      "cell_type": "code",
      "source": [
        "model.apply(lambda m: init_weights(m, init_type = 'xavier'))"
      ],
      "metadata": {
        "colab": {
          "base_uri": "https://localhost:8080/"
        },
        "id": "OK5VMBFwDTMp",
        "outputId": "9c980ca8-d508-4b54-f338-9e22f1eef6e6"
      },
      "execution_count": null,
      "outputs": [
        {
          "output_type": "execute_result",
          "data": {
            "text/plain": [
              "Model(\n",
              "  (fc1): Linear(in_features=71, out_features=10, bias=True)\n",
              "  (bn1): BatchNorm1d(10, eps=1e-05, momentum=0.1, affine=True, track_running_stats=True)\n",
              "  (fc2): Linear(in_features=10, out_features=10, bias=True)\n",
              "  (bn2): BatchNorm1d(10, eps=1e-05, momentum=0.1, affine=True, track_running_stats=True)\n",
              "  (fc3): Linear(in_features=10, out_features=6, bias=True)\n",
              "  (bn3): BatchNorm1d(6, eps=1e-05, momentum=0.1, affine=True, track_running_stats=True)\n",
              "  (drop): Dropout(p=0.5, inplace=False)\n",
              "  (fc4): Linear(in_features=6, out_features=1, bias=True)\n",
              ")"
            ]
          },
          "metadata": {},
          "execution_count": 51
        }
      ]
    },
    {
      "cell_type": "code",
      "source": [
        "loss_criteria = nn.HuberLoss()\n",
        "learning_rate = 0.003\n",
        "optimizer = torch.optim.Adam(model.parameters(), lr=learning_rate)\n",
        "optimizer.zero_grad()\n",
        "epoch_nums = []\n",
        "training_loss = []\n",
        "validation_loss = []\n",
        "epochs = 30\n",
        "for epoch in range(1, epochs + 1):\n",
        "    # print the epoch number\n",
        "    print('Epoch: {}'.format(epoch))\n",
        "    \n",
        "    # Feed training data into the model to optimize the weights\n",
        "    train_loss = train(model, train_loader, optimizer)\n",
        "    \n",
        "    # Feed the test data into the model to check its performance\n",
        "    test_loss = test(model, test_loader)\n",
        "    \n",
        "    # Log the metrics for this epoch\n",
        "    epoch_nums.append(epoch)\n",
        "    training_loss.append(train_loss)\n",
        "    validation_loss.append(test_loss)"
      ],
      "metadata": {
        "colab": {
          "base_uri": "https://localhost:8080/"
        },
        "id": "vAKBb1O3DVpO",
        "outputId": "e40aa881-7ee6-4515-f0a8-6fb2fd8871c4"
      },
      "execution_count": null,
      "outputs": [
        {
          "output_type": "stream",
          "name": "stdout",
          "text": [
            "Epoch: 1\n",
            "Training set: Average loss: 0.079896\n",
            "Validation set: Average loss: 0.054076, Accuracy: 4203/5000 (84%)\n",
            "\n",
            "Epoch: 2\n",
            "Training set: Average loss: 0.059182\n",
            "Validation set: Average loss: 0.051650, Accuracy: 4242/5000 (85%)\n",
            "\n",
            "Epoch: 3\n",
            "Training set: Average loss: 0.057547\n",
            "Validation set: Average loss: 0.051644, Accuracy: 4227/5000 (85%)\n",
            "\n",
            "Epoch: 4\n",
            "Training set: Average loss: 0.056229\n",
            "Validation set: Average loss: 0.050971, Accuracy: 4239/5000 (85%)\n",
            "\n",
            "Epoch: 5\n",
            "Training set: Average loss: 0.055048\n",
            "Validation set: Average loss: 0.050365, Accuracy: 4262/5000 (85%)\n",
            "\n",
            "Epoch: 6\n",
            "Training set: Average loss: 0.054208\n",
            "Validation set: Average loss: 0.050827, Accuracy: 4231/5000 (85%)\n",
            "\n",
            "Epoch: 7\n",
            "Training set: Average loss: 0.054578\n",
            "Validation set: Average loss: 0.050224, Accuracy: 4258/5000 (85%)\n",
            "\n",
            "Epoch: 8\n",
            "Training set: Average loss: 0.054255\n",
            "Validation set: Average loss: 0.050220, Accuracy: 4236/5000 (85%)\n",
            "\n",
            "Epoch: 9\n",
            "Training set: Average loss: 0.054263\n",
            "Validation set: Average loss: 0.050988, Accuracy: 4238/5000 (85%)\n",
            "\n",
            "Epoch: 10\n",
            "Training set: Average loss: 0.054049\n",
            "Validation set: Average loss: 0.050766, Accuracy: 4248/5000 (85%)\n",
            "\n",
            "Epoch: 11\n",
            "Training set: Average loss: 0.053605\n",
            "Validation set: Average loss: 0.049789, Accuracy: 4263/5000 (85%)\n",
            "\n",
            "Epoch: 12\n",
            "Training set: Average loss: 0.053668\n",
            "Validation set: Average loss: 0.051082, Accuracy: 4231/5000 (85%)\n",
            "\n",
            "Epoch: 13\n",
            "Training set: Average loss: 0.053571\n",
            "Validation set: Average loss: 0.051210, Accuracy: 4236/5000 (85%)\n",
            "\n",
            "Epoch: 14\n",
            "Training set: Average loss: 0.053216\n",
            "Validation set: Average loss: 0.050663, Accuracy: 4240/5000 (85%)\n",
            "\n",
            "Epoch: 15\n",
            "Training set: Average loss: 0.052959\n",
            "Validation set: Average loss: 0.050294, Accuracy: 4254/5000 (85%)\n",
            "\n",
            "Epoch: 16\n",
            "Training set: Average loss: 0.052830\n",
            "Validation set: Average loss: 0.050289, Accuracy: 4257/5000 (85%)\n",
            "\n",
            "Epoch: 17\n",
            "Training set: Average loss: 0.052483\n",
            "Validation set: Average loss: 0.050885, Accuracy: 4253/5000 (85%)\n",
            "\n",
            "Epoch: 18\n",
            "Training set: Average loss: 0.052647\n",
            "Validation set: Average loss: 0.050226, Accuracy: 4275/5000 (86%)\n",
            "\n",
            "Epoch: 19\n",
            "Training set: Average loss: 0.052354\n",
            "Validation set: Average loss: 0.050234, Accuracy: 4257/5000 (85%)\n",
            "\n",
            "Epoch: 20\n",
            "Training set: Average loss: 0.052290\n",
            "Validation set: Average loss: 0.050267, Accuracy: 4275/5000 (86%)\n",
            "\n",
            "Epoch: 21\n",
            "Training set: Average loss: 0.052035\n",
            "Validation set: Average loss: 0.050208, Accuracy: 4264/5000 (85%)\n",
            "\n",
            "Epoch: 22\n",
            "Training set: Average loss: 0.052475\n",
            "Validation set: Average loss: 0.050214, Accuracy: 4259/5000 (85%)\n",
            "\n",
            "Epoch: 23\n",
            "Training set: Average loss: 0.052126\n",
            "Validation set: Average loss: 0.050472, Accuracy: 4257/5000 (85%)\n",
            "\n",
            "Epoch: 24\n",
            "Training set: Average loss: 0.052242\n",
            "Validation set: Average loss: 0.051643, Accuracy: 4227/5000 (85%)\n",
            "\n",
            "Epoch: 25\n",
            "Training set: Average loss: 0.051922\n",
            "Validation set: Average loss: 0.052357, Accuracy: 4227/5000 (85%)\n",
            "\n",
            "Epoch: 26\n",
            "Training set: Average loss: 0.052159\n",
            "Validation set: Average loss: 0.050373, Accuracy: 4261/5000 (85%)\n",
            "\n",
            "Epoch: 27\n",
            "Training set: Average loss: 0.051606\n",
            "Validation set: Average loss: 0.051066, Accuracy: 4253/5000 (85%)\n",
            "\n",
            "Epoch: 28\n",
            "Training set: Average loss: 0.051622\n",
            "Validation set: Average loss: 0.050794, Accuracy: 4243/5000 (85%)\n",
            "\n",
            "Epoch: 29\n",
            "Training set: Average loss: 0.052513\n",
            "Validation set: Average loss: 0.050136, Accuracy: 4254/5000 (85%)\n",
            "\n",
            "Epoch: 30\n",
            "Training set: Average loss: 0.051852\n",
            "Validation set: Average loss: 0.050509, Accuracy: 4263/5000 (85%)\n",
            "\n"
          ]
        }
      ]
    },
    {
      "cell_type": "markdown",
      "source": [
        "## Eveluate on test with `xaver`"
      ],
      "metadata": {
        "id": "DC8EvsI6svPZ"
      }
    },
    {
      "cell_type": "code",
      "source": [
        "_evaluate(model, X_test)"
      ],
      "metadata": {
        "colab": {
          "base_uri": "https://localhost:8080/",
          "height": 572
        },
        "id": "6Jki9EXNEF_o",
        "outputId": "24a79d69-fbc4-41ba-9112-1dbf04407698"
      },
      "execution_count": null,
      "outputs": [
        {
          "output_type": "stream",
          "name": "stdout",
          "text": [
            "Evaluation on test dataset\n",
            "ACCURACY_SCORE:  0.8526\n",
            "F1_SCORE:  0.7769\n",
            "CONFUSION_MATRIX:\n",
            " [[3588  223]\n",
            " [ 514  675]] \n",
            "\n",
            "              precision    recall  f1-score   support\n",
            "\n",
            "           0     0.8747    0.9415    0.9069      3811\n",
            "           1     0.7517    0.5677    0.6469      1189\n",
            "\n",
            "    accuracy                         0.8526      5000\n",
            "   macro avg     0.8132    0.7546    0.7769      5000\n",
            "weighted avg     0.8454    0.8526    0.8450      5000\n",
            " \n",
            "\n"
          ]
        },
        {
          "output_type": "display_data",
          "data": {
            "text/plain": [
              "<Figure size 432x288 with 2 Axes>"
            ],
            "image/png": "[encoded data removed]"
          },
          "metadata": {
            "needs_background": "light"
          }
        }
      ]
    },
    {
      "cell_type": "markdown",
      "source": [
        "Như vậy khởi tạo `xavier` tốt hơn so với `he`"
      ],
      "metadata": {
        "id": "qjK4GU7BEV40"
      }
    },
    {
      "cell_type": "markdown",
      "source": [
        "#Fine tuning"
      ],
      "metadata": {
        "id": "Rz_OurettBVZ"
      }
    },
    {
      "cell_type": "code",
      "source": [
        "!pip install --quiet optuna"
      ],
      "metadata": {
        "id": "cFdh0gv5EbFs"
      },
      "execution_count": null,
      "outputs": []
    },
    {
      "cell_type": "code",
      "source": [
        "import optuna\n",
        "from optuna.trial import TrialState\n",
        "import torch.optim as optim\n",
        "import torch.nn.functional as F"
      ],
      "metadata": {
        "id": "uymivcdmE8Xv"
      },
      "execution_count": null,
      "outputs": []
    },
    {
      "cell_type": "code",
      "source": [
        "# Create a dataset and loader for the training data and labels\n",
        "train_x = torch.Tensor(X_train).float()\n",
        "train_y = torch.Tensor(y_train).float()\n",
        "train_ds = td.TensorDataset(train_x,train_y)\n",
        "train_loader = td.DataLoader(train_ds, batch_size=32,\n",
        "    shuffle=True, num_workers=2)\n",
        "\n",
        "# Create a dataset and loader for the test data and labels\n",
        "test_x = torch.Tensor(X_test).float()\n",
        "test_y = torch.Tensor(y_test).float()\n",
        "test_ds = td.TensorDataset(test_x,test_y)\n",
        "test_loader = td.DataLoader(test_ds, batch_size=32,\n",
        "    shuffle=False, num_workers=2)\n",
        "print('Ready to load data')"
      ],
      "metadata": {
        "colab": {
          "base_uri": "https://localhost:8080/"
        },
        "id": "mpz3xcjyElMc",
        "outputId": "d5b52755-cdb0-4f36-cfa2-95afefe7d512"
      },
      "execution_count": null,
      "outputs": [
        {
          "output_type": "stream",
          "name": "stdout",
          "text": [
            "Ready to load data\n"
          ]
        }
      ]
    },
    {
      "cell_type": "code",
      "source": [
        "  # Thiết lập không gian search\n",
        "  def define_model(trial):\n",
        "      # We optimize the number of layers, hidden units and dropout ratio in each layer.\n",
        "      n_layers = trial.suggest_int(\"n_layers\", 2, 5) # Khởi tại không gian layers\n",
        "      layers = []\n",
        "      act_layers = {\n",
        "          'relu': nn.ReLU(),\n",
        "          'sigmoid': nn.Sigmoid(),\n",
        "          'gelu': nn.GELU(),\n",
        "      }\n",
        "\n",
        "      in_features = len(X)\n",
        "      # Khởi tạo cho từng layers\n",
        "      for i in range(n_layers):\n",
        "          out_features = trial.suggest_int(\"n_units_l{}\".format(i), 20, 200)\n",
        "          layers.append(nn.Linear(in_features, out_features)) #FC\n",
        "          layers.append(nn.BatchNorm1d(out_features)) # Batch normalization\n",
        "          act_type = trial.suggest_categorical(\"act_type\", ['relu', 'sigmoid', 'gelu'])\n",
        "          layers.append(act_layers[act_type]) # Sau mỗi layer sẽ dùng 1 trong 3 activation đã khởi tạo\n",
        "          p = trial.suggest_float(\"dropout_l{}\".format(i), 0.2, 0.6) # Tỷ lệ drop-out ngẫu nhiên từ 0.2 đến 0.6\n",
        "          layers.append(nn.Dropout(p))\n",
        "          in_features = out_features\n",
        "      layers.append(nn.Linear(in_features, 1))\n",
        "      layers.append(nn.Sigmoid())\n",
        "\n",
        "      return nn.Sequential(*layers)"
      ],
      "metadata": {
        "id": "er-qKzaeEqam"
      },
      "execution_count": null,
      "outputs": []
    },
    {
      "cell_type": "code",
      "source": [
        "DEVICE = torch.device(\"cpu\") #Huấn luyện mô hình trên CPU\n",
        "BATCHSIZE = 32\n",
        "EPOCHS = 30\n",
        "LOG_INTERVAL = 10\n",
        "N_TRAIN_EXAMPLES = BATCHSIZE * 500\n",
        "N_VALID_EXAMPLES = BATCHSIZE * 100\n",
        "\n",
        "def objective(trial):\n",
        "\n",
        "    # Khởi tạo kiến trúc\n",
        "    model = define_model(trial).to(DEVICE)\n",
        "\n",
        "    # Khởi tạo optimizers.\n",
        "    optimizer_name = trial.suggest_categorical(\"optimizer\", [\"Adam\", \"RMSprop\", \"SGD\"])\n",
        "    lr = trial.suggest_float(\"lr\", 1e-5, 1e-1, log=True) # Vì lr không có pp đều nên cần biến đổi log lr để search trên kgian log\n",
        "    optimizer = getattr(optim, optimizer_name)(model.parameters(), lr=lr)\n",
        "    # Generate the loss function\n",
        "    criteria_name = trial.suggest_categorical(\"criterial\", ['BCELoss', 'HuberLoss'])\n",
        "    criteria_dict = {\n",
        "        'BCELoss': nn.BCELoss(),\n",
        "        'HuberLoss': nn.HuberLoss()\n",
        "    }\n",
        "    loss_criteria = criteria_dict[criteria_name]\n",
        "    # Training of the model.\n",
        "    for epoch in range(EPOCHS):\n",
        "        model.train()\n",
        "        for batch_idx, (data, target) in enumerate(train_loader):\n",
        "            # Limiting training data for faster epochs.\n",
        "            if batch_idx * BATCHSIZE >= N_TRAIN_EXAMPLES:\n",
        "                break\n",
        "\n",
        "            data, target = data.view(data.size(0), -1).to(DEVICE), target.to(DEVICE)\n",
        "\n",
        "            optimizer.zero_grad()\n",
        "            output = model(data)\n",
        "            loss = loss_criteria(output, target.reshape(-1,1))\n",
        "            loss.backward()\n",
        "            optimizer.step()\n",
        "\n",
        "        # Validation of the model.\n",
        "        model.eval()\n",
        "        correct = 0\n",
        "        with torch.no_grad():\n",
        "            for batch_idx, (data, target) in enumerate(test_loader):\n",
        "                # Limiting validation data.\n",
        "                if batch_idx * BATCHSIZE >= N_VALID_EXAMPLES:\n",
        "                    break\n",
        "                data, target = data.view(data.size(0), -1).to(DEVICE), target.to(DEVICE)\n",
        "                output = model(data)\n",
        "                # Get the index of the max log-probability.\n",
        "                pred = torch.tensor(output.data>=0.5).float()\n",
        "                correct += pred.eq(target.view_as(pred)).sum().item()\n",
        "\n",
        "        accuracy = correct / min(len(test_loader.dataset), N_VALID_EXAMPLES)\n",
        "\n",
        "        trial.report(accuracy, epoch) # tracking lại các accuracy và epoch tương ứng\n",
        "\n",
        "        # Handle pruning based on the intermediate value.\n",
        "        if trial.should_prune():\n",
        "            raise optuna.exceptions.TrialPruned()\n",
        "\n",
        "    return accuracy"
      ],
      "metadata": {
        "id": "MPYh3ZgQEule"
      },
      "execution_count": null,
      "outputs": []
    },
    {
      "cell_type": "code",
      "source": [
        "study = optuna.create_study(direction=\"maximize\")\n",
        "study.optimize(objective, n_trials=100, timeout=1000)\n",
        "\n",
        "pruned_trials = study.get_trials(deepcopy=False, states=[TrialState.PRUNED])\n",
        "complete_trials = study.get_trials(deepcopy=False, states=[TrialState.COMPLETE])\n",
        "\n",
        "print(\"Study statistics: \")\n",
        "print(\"  Number of finished trials: \", len(study.trials))\n",
        "print(\"  Number of pruned trials: \", len(pruned_trials))\n",
        "print(\"  Number of complete trials: \", len(complete_trials))\n",
        "\n",
        "print(\"Best trial:\")\n",
        "trial = study.best_trial\n",
        "\n",
        "print(\"  Value: \", trial.value)\n",
        "\n",
        "print(\"  Params: \")\n",
        "for key, value in trial.params.items():\n",
        "    print(\"    {}: {}\".format(key, value))"
      ],
      "metadata": {
        "colab": {
          "base_uri": "https://localhost:8080/"
        },
        "id": "mzQObfYfE_H9",
        "outputId": "716cf378-aaef-4938-a658-7084ff6e376b"
      },
      "execution_count": null,
      "outputs": [
        {
          "output_type": "stream",
          "name": "stderr",
          "text": [
            "\u001b[32m[I 2022-03-22 10:03:39,398]\u001b[0m A new study created in memory with name: no-name-4c3a84b3-f236-4b25-9866-04357f40c235\u001b[0m\n",
            "/usr/local/lib/python3.7/dist-packages/ipykernel_launcher.py:51: UserWarning: To copy construct from a tensor, it is recommended to use sourceTensor.clone().detach() or sourceTensor.clone().detach().requires_grad_(True), rather than torch.tensor(sourceTensor).\n",
            "\u001b[32m[I 2022-03-22 10:05:23,690]\u001b[0m Trial 0 finished with value: 0.853125 and parameters: {'n_layers': 3, 'n_units_l0': 200, 'act_type': 'gelu', 'dropout_l0': 0.28914361939901434, 'n_units_l1': 83, 'dropout_l1': 0.440029172043498, 'n_units_l2': 89, 'dropout_l2': 0.4925781551921577, 'optimizer': 'Adam', 'lr': 0.0002552941729813259, 'criterial': 'BCELoss'}. Best is trial 0 with value: 0.853125.\u001b[0m\n",
            "/usr/local/lib/python3.7/dist-packages/ipykernel_launcher.py:51: UserWarning: To copy construct from a tensor, it is recommended to use sourceTensor.clone().detach() or sourceTensor.clone().detach().requires_grad_(True), rather than torch.tensor(sourceTensor).\n",
            "\u001b[32m[I 2022-03-22 10:06:52,852]\u001b[0m Trial 1 finished with value: 0.84875 and parameters: {'n_layers': 3, 'n_units_l0': 61, 'act_type': 'sigmoid', 'dropout_l0': 0.41637339198353973, 'n_units_l1': 155, 'dropout_l1': 0.5751052164727197, 'n_units_l2': 167, 'dropout_l2': 0.25537199295426405, 'optimizer': 'RMSprop', 'lr': 4.555589378100779e-05, 'criterial': 'HuberLoss'}. Best is trial 0 with value: 0.853125.\u001b[0m\n",
            "/usr/local/lib/python3.7/dist-packages/ipykernel_launcher.py:51: UserWarning: To copy construct from a tensor, it is recommended to use sourceTensor.clone().detach() or sourceTensor.clone().detach().requires_grad_(True), rather than torch.tensor(sourceTensor).\n",
            "\u001b[32m[I 2022-03-22 10:08:30,151]\u001b[0m Trial 2 finished with value: 0.8540625 and parameters: {'n_layers': 4, 'n_units_l0': 176, 'act_type': 'relu', 'dropout_l0': 0.4000105850100041, 'n_units_l1': 105, 'dropout_l1': 0.36307120268814524, 'n_units_l2': 96, 'dropout_l2': 0.426934626514821, 'n_units_l3': 76, 'dropout_l3': 0.4567618561761607, 'optimizer': 'RMSprop', 'lr': 0.000382028167200681, 'criterial': 'BCELoss'}. Best is trial 2 with value: 0.8540625.\u001b[0m\n",
            "/usr/local/lib/python3.7/dist-packages/ipykernel_launcher.py:51: UserWarning: To copy construct from a tensor, it is recommended to use sourceTensor.clone().detach() or sourceTensor.clone().detach().requires_grad_(True), rather than torch.tensor(sourceTensor).\n",
            "\u001b[32m[I 2022-03-22 10:10:06,388]\u001b[0m Trial 3 finished with value: 0.8496875 and parameters: {'n_layers': 3, 'n_units_l0': 91, 'act_type': 'relu', 'dropout_l0': 0.5565730665507522, 'n_units_l1': 191, 'dropout_l1': 0.5958935848695506, 'n_units_l2': 93, 'dropout_l2': 0.2201424762633285, 'optimizer': 'Adam', 'lr': 5.1148390184981004e-05, 'criterial': 'HuberLoss'}. Best is trial 2 with value: 0.8540625.\u001b[0m\n",
            "/usr/local/lib/python3.7/dist-packages/ipykernel_launcher.py:51: UserWarning: To copy construct from a tensor, it is recommended to use sourceTensor.clone().detach() or sourceTensor.clone().detach().requires_grad_(True), rather than torch.tensor(sourceTensor).\n",
            "\u001b[32m[I 2022-03-22 10:11:46,071]\u001b[0m Trial 4 finished with value: 0.759375 and parameters: {'n_layers': 5, 'n_units_l0': 195, 'act_type': 'sigmoid', 'dropout_l0': 0.35543099958893015, 'n_units_l1': 97, 'dropout_l1': 0.20587124800835463, 'n_units_l2': 92, 'dropout_l2': 0.5654578485148476, 'n_units_l3': 139, 'dropout_l3': 0.27452680867451235, 'n_units_l4': 134, 'dropout_l4': 0.26992900990854696, 'optimizer': 'SGD', 'lr': 0.005889049171804642, 'criterial': 'HuberLoss'}. Best is trial 2 with value: 0.8540625.\u001b[0m\n",
            "/usr/local/lib/python3.7/dist-packages/ipykernel_launcher.py:51: UserWarning: To copy construct from a tensor, it is recommended to use sourceTensor.clone().detach() or sourceTensor.clone().detach().requires_grad_(True), rather than torch.tensor(sourceTensor).\n",
            "\u001b[32m[I 2022-03-22 10:13:29,103]\u001b[0m Trial 5 finished with value: 0.8565625 and parameters: {'n_layers': 3, 'n_units_l0': 179, 'act_type': 'relu', 'dropout_l0': 0.5618703885573135, 'n_units_l1': 186, 'dropout_l1': 0.26163038907552916, 'n_units_l2': 57, 'dropout_l2': 0.2982459294241378, 'optimizer': 'Adam', 'lr': 0.0005969929271689646, 'criterial': 'BCELoss'}. Best is trial 5 with value: 0.8565625.\u001b[0m\n",
            "/usr/local/lib/python3.7/dist-packages/ipykernel_launcher.py:51: UserWarning: To copy construct from a tensor, it is recommended to use sourceTensor.clone().detach() or sourceTensor.clone().detach().requires_grad_(True), rather than torch.tensor(sourceTensor).\n",
            "\u001b[32m[I 2022-03-22 10:13:34,660]\u001b[0m Trial 6 pruned. \u001b[0m\n",
            "/usr/local/lib/python3.7/dist-packages/ipykernel_launcher.py:51: UserWarning: To copy construct from a tensor, it is recommended to use sourceTensor.clone().detach() or sourceTensor.clone().detach().requires_grad_(True), rather than torch.tensor(sourceTensor).\n",
            "\u001b[32m[I 2022-03-22 10:14:55,348]\u001b[0m Trial 7 pruned. \u001b[0m\n",
            "/usr/local/lib/python3.7/dist-packages/ipykernel_launcher.py:51: UserWarning: To copy construct from a tensor, it is recommended to use sourceTensor.clone().detach() or sourceTensor.clone().detach().requires_grad_(True), rather than torch.tensor(sourceTensor).\n",
            "\u001b[32m[I 2022-03-22 10:15:55,406]\u001b[0m Trial 8 pruned. \u001b[0m\n",
            "/usr/local/lib/python3.7/dist-packages/ipykernel_launcher.py:51: UserWarning: To copy construct from a tensor, it is recommended to use sourceTensor.clone().detach() or sourceTensor.clone().detach().requires_grad_(True), rather than torch.tensor(sourceTensor).\n",
            "\u001b[32m[I 2022-03-22 10:15:58,696]\u001b[0m Trial 9 pruned. \u001b[0m\n",
            "/usr/local/lib/python3.7/dist-packages/ipykernel_launcher.py:51: UserWarning: To copy construct from a tensor, it is recommended to use sourceTensor.clone().detach() or sourceTensor.clone().detach().requires_grad_(True), rather than torch.tensor(sourceTensor).\n",
            "\u001b[32m[I 2022-03-22 10:17:16,389]\u001b[0m Trial 10 finished with value: 0.8540625 and parameters: {'n_layers': 2, 'n_units_l0': 151, 'act_type': 'gelu', 'dropout_l0': 0.48116861899000635, 'n_units_l1': 182, 'dropout_l1': 0.30491252992901063, 'optimizer': 'SGD', 'lr': 0.08281903843901554, 'criterial': 'BCELoss'}. Best is trial 5 with value: 0.8565625.\u001b[0m\n",
            "/usr/local/lib/python3.7/dist-packages/ipykernel_launcher.py:51: UserWarning: To copy construct from a tensor, it is recommended to use sourceTensor.clone().detach() or sourceTensor.clone().detach().requires_grad_(True), rather than torch.tensor(sourceTensor).\n",
            "\u001b[32m[I 2022-03-22 10:17:19,396]\u001b[0m Trial 11 pruned. \u001b[0m\n",
            "/usr/local/lib/python3.7/dist-packages/ipykernel_launcher.py:51: UserWarning: To copy construct from a tensor, it is recommended to use sourceTensor.clone().detach() or sourceTensor.clone().detach().requires_grad_(True), rather than torch.tensor(sourceTensor).\n",
            "\u001b[32m[I 2022-03-22 10:17:48,037]\u001b[0m Trial 12 pruned. \u001b[0m\n",
            "/usr/local/lib/python3.7/dist-packages/ipykernel_launcher.py:51: UserWarning: To copy construct from a tensor, it is recommended to use sourceTensor.clone().detach() or sourceTensor.clone().detach().requires_grad_(True), rather than torch.tensor(sourceTensor).\n",
            "\u001b[32m[I 2022-03-22 10:17:51,257]\u001b[0m Trial 13 pruned. \u001b[0m\n",
            "/usr/local/lib/python3.7/dist-packages/ipykernel_launcher.py:51: UserWarning: To copy construct from a tensor, it is recommended to use sourceTensor.clone().detach() or sourceTensor.clone().detach().requires_grad_(True), rather than torch.tensor(sourceTensor).\n",
            "\u001b[32m[I 2022-03-22 10:17:54,313]\u001b[0m Trial 14 pruned. \u001b[0m\n",
            "/usr/local/lib/python3.7/dist-packages/ipykernel_launcher.py:51: UserWarning: To copy construct from a tensor, it is recommended to use sourceTensor.clone().detach() or sourceTensor.clone().detach().requires_grad_(True), rather than torch.tensor(sourceTensor).\n",
            "\u001b[32m[I 2022-03-22 10:19:28,129]\u001b[0m Trial 15 finished with value: 0.8559375 and parameters: {'n_layers': 2, 'n_units_l0': 176, 'act_type': 'relu', 'dropout_l0': 0.5196766612933055, 'n_units_l1': 111, 'dropout_l1': 0.36745712661748886, 'optimizer': 'RMSprop', 'lr': 0.018718752556731923, 'criterial': 'BCELoss'}. Best is trial 5 with value: 0.8565625.\u001b[0m\n",
            "/usr/local/lib/python3.7/dist-packages/ipykernel_launcher.py:51: UserWarning: To copy construct from a tensor, it is recommended to use sourceTensor.clone().detach() or sourceTensor.clone().detach().requires_grad_(True), rather than torch.tensor(sourceTensor).\n",
            "\u001b[32m[I 2022-03-22 10:20:57,513]\u001b[0m Trial 16 finished with value: 0.8515625 and parameters: {'n_layers': 2, 'n_units_l0': 135, 'act_type': 'gelu', 'dropout_l0': 0.5208591260338111, 'n_units_l1': 168, 'dropout_l1': 0.4933169601831278, 'optimizer': 'Adam', 'lr': 0.04425657012444943, 'criterial': 'BCELoss'}. Best is trial 5 with value: 0.8565625.\u001b[0m\n"
          ]
        },
        {
          "output_type": "stream",
          "name": "stdout",
          "text": [
            "Study statistics: \n",
            "  Number of finished trials:  17\n",
            "  Number of pruned trials:  8\n",
            "  Number of complete trials:  9\n",
            "Best trial:\n",
            "  Value:  0.8565625\n",
            "  Params: \n",
            "    n_layers: 3\n",
            "    n_units_l0: 179\n",
            "    act_type: relu\n",
            "    dropout_l0: 0.5618703885573135\n",
            "    n_units_l1: 186\n",
            "    dropout_l1: 0.26163038907552916\n",
            "    n_units_l2: 57\n",
            "    dropout_l2: 0.2982459294241378\n",
            "    optimizer: Adam\n",
            "    lr: 0.0005969929271689646\n",
            "    criterial: BCELoss\n"
          ]
        }
      ]
    },
    {
      "cell_type": "code",
      "source": [
        "model = define_model(trial)"
      ],
      "metadata": {
        "id": "nQZadLYRJgdd"
      },
      "execution_count": null,
      "outputs": []
    },
    {
      "cell_type": "code",
      "source": [
        "loss_criteria = nn.BCELoss()\n",
        "optimizer = optim.Adam(model.parameters(), \n",
        "                       lr=trial.params['lr'])\n",
        "optimizer.zero_grad()\n",
        "\n",
        "# We'll track metrics for each epoch in these arrays\n",
        "epoch_nums = []\n",
        "training_loss = []\n",
        "validation_loss = []\n",
        "\n",
        "# Tăng epoch lên\n",
        "epochs = 100\n",
        "for epoch in range(1, epochs + 1):\n",
        "    print('Epoch: {}'.format(epoch))\n",
        "    train_loss = train(model, train_loader, optimizer)\n",
        "    test_loss = test(model, test_loader)\n",
        "    epoch_nums.append(epoch)\n",
        "    training_loss.append(train_loss)\n",
        "    validation_loss.append(test_loss)"
      ],
      "metadata": {
        "colab": {
          "base_uri": "https://localhost:8080/"
        },
        "id": "ufwzUdJgJl6s",
        "outputId": "1c9842ff-3b57-4ba5-b8e1-140fc86d93d4"
      },
      "execution_count": null,
      "outputs": [
        {
          "output_type": "stream",
          "name": "stdout",
          "text": [
            "Epoch: 1\n",
            "Training set: Average loss: 0.398383\n",
            "Validation set: Average loss: 0.326364, Accuracy: 4232/5000 (85%)\n",
            "\n",
            "Epoch: 2\n",
            "Training set: Average loss: 0.356109\n",
            "Validation set: Average loss: 0.319122, Accuracy: 4227/5000 (85%)\n",
            "\n",
            "Epoch: 3\n",
            "Training set: Average loss: 0.345342\n",
            "Validation set: Average loss: 0.312835, Accuracy: 4245/5000 (85%)\n",
            "\n",
            "Epoch: 4\n",
            "Training set: Average loss: 0.342670\n",
            "Validation set: Average loss: 0.320077, Accuracy: 4230/5000 (85%)\n",
            "\n",
            "Epoch: 5\n",
            "Training set: Average loss: 0.336251\n",
            "Validation set: Average loss: 0.309610, Accuracy: 4254/5000 (85%)\n",
            "\n",
            "Epoch: 6\n",
            "Training set: Average loss: 0.337016\n",
            "Validation set: Average loss: 0.309079, Accuracy: 4255/5000 (85%)\n",
            "\n",
            "Epoch: 7\n",
            "Training set: Average loss: 0.333517\n",
            "Validation set: Average loss: 0.309031, Accuracy: 4266/5000 (85%)\n",
            "\n",
            "Epoch: 8\n",
            "Training set: Average loss: 0.334849\n",
            "Validation set: Average loss: 0.309942, Accuracy: 4268/5000 (85%)\n",
            "\n",
            "Epoch: 9\n",
            "Training set: Average loss: 0.330154\n",
            "Validation set: Average loss: 0.310116, Accuracy: 4260/5000 (85%)\n",
            "\n",
            "Epoch: 10\n",
            "Training set: Average loss: 0.329708\n",
            "Validation set: Average loss: 0.311113, Accuracy: 4262/5000 (85%)\n",
            "\n",
            "Epoch: 11\n",
            "Training set: Average loss: 0.325554\n",
            "Validation set: Average loss: 0.310087, Accuracy: 4269/5000 (85%)\n",
            "\n",
            "Epoch: 12\n",
            "Training set: Average loss: 0.324509\n",
            "Validation set: Average loss: 0.307101, Accuracy: 4268/5000 (85%)\n",
            "\n",
            "Epoch: 13\n",
            "Training set: Average loss: 0.325116\n",
            "Validation set: Average loss: 0.305838, Accuracy: 4271/5000 (85%)\n",
            "\n",
            "Epoch: 14\n",
            "Training set: Average loss: 0.326927\n",
            "Validation set: Average loss: 0.312263, Accuracy: 4261/5000 (85%)\n",
            "\n",
            "Epoch: 15\n",
            "Training set: Average loss: 0.322577\n",
            "Validation set: Average loss: 0.309753, Accuracy: 4256/5000 (85%)\n",
            "\n",
            "Epoch: 16\n",
            "Training set: Average loss: 0.320597\n",
            "Validation set: Average loss: 0.306856, Accuracy: 4278/5000 (86%)\n",
            "\n",
            "Epoch: 17\n",
            "Training set: Average loss: 0.318544\n",
            "Validation set: Average loss: 0.306989, Accuracy: 4259/5000 (85%)\n",
            "\n",
            "Epoch: 18\n",
            "Training set: Average loss: 0.315811\n",
            "Validation set: Average loss: 0.309177, Accuracy: 4268/5000 (85%)\n",
            "\n",
            "Epoch: 19\n",
            "Training set: Average loss: 0.315667\n",
            "Validation set: Average loss: 0.305671, Accuracy: 4284/5000 (86%)\n",
            "\n",
            "Epoch: 20\n",
            "Training set: Average loss: 0.316291\n",
            "Validation set: Average loss: 0.307512, Accuracy: 4276/5000 (86%)\n",
            "\n",
            "Epoch: 21\n",
            "Training set: Average loss: 0.313981\n",
            "Validation set: Average loss: 0.307614, Accuracy: 4285/5000 (86%)\n",
            "\n",
            "Epoch: 22\n",
            "Training set: Average loss: 0.316443\n",
            "Validation set: Average loss: 0.304269, Accuracy: 4290/5000 (86%)\n",
            "\n",
            "Epoch: 23\n",
            "Training set: Average loss: 0.314880\n",
            "Validation set: Average loss: 0.306856, Accuracy: 4276/5000 (86%)\n",
            "\n",
            "Epoch: 24\n",
            "Training set: Average loss: 0.313873\n",
            "Validation set: Average loss: 0.307117, Accuracy: 4278/5000 (86%)\n",
            "\n",
            "Epoch: 25\n",
            "Training set: Average loss: 0.312927\n",
            "Validation set: Average loss: 0.306203, Accuracy: 4273/5000 (85%)\n",
            "\n",
            "Epoch: 26\n",
            "Training set: Average loss: 0.311681\n",
            "Validation set: Average loss: 0.302741, Accuracy: 4280/5000 (86%)\n",
            "\n",
            "Epoch: 27\n",
            "Training set: Average loss: 0.312379\n",
            "Validation set: Average loss: 0.305421, Accuracy: 4285/5000 (86%)\n",
            "\n",
            "Epoch: 28\n",
            "Training set: Average loss: 0.312144\n",
            "Validation set: Average loss: 0.307072, Accuracy: 4266/5000 (85%)\n",
            "\n",
            "Epoch: 29\n",
            "Training set: Average loss: 0.310446\n",
            "Validation set: Average loss: 0.306939, Accuracy: 4283/5000 (86%)\n",
            "\n",
            "Epoch: 30\n",
            "Training set: Average loss: 0.310439\n",
            "Validation set: Average loss: 0.303599, Accuracy: 4281/5000 (86%)\n",
            "\n",
            "Epoch: 31\n",
            "Training set: Average loss: 0.308656\n",
            "Validation set: Average loss: 0.305315, Accuracy: 4276/5000 (86%)\n",
            "\n",
            "Epoch: 32\n",
            "Training set: Average loss: 0.310687\n",
            "Validation set: Average loss: 0.306401, Accuracy: 4269/5000 (85%)\n",
            "\n",
            "Epoch: 33\n",
            "Training set: Average loss: 0.305775\n",
            "Validation set: Average loss: 0.304950, Accuracy: 4277/5000 (86%)\n",
            "\n",
            "Epoch: 34\n",
            "Training set: Average loss: 0.307691\n",
            "Validation set: Average loss: 0.306306, Accuracy: 4281/5000 (86%)\n",
            "\n",
            "Epoch: 35\n",
            "Training set: Average loss: 0.307360\n",
            "Validation set: Average loss: 0.304680, Accuracy: 4279/5000 (86%)\n",
            "\n",
            "Epoch: 36\n",
            "Training set: Average loss: 0.305209\n",
            "Validation set: Average loss: 0.302644, Accuracy: 4278/5000 (86%)\n",
            "\n",
            "Epoch: 37\n",
            "Training set: Average loss: 0.308827\n",
            "Validation set: Average loss: 0.304231, Accuracy: 4279/5000 (86%)\n",
            "\n",
            "Epoch: 38\n",
            "Training set: Average loss: 0.307610\n",
            "Validation set: Average loss: 0.303838, Accuracy: 4273/5000 (85%)\n",
            "\n",
            "Epoch: 39\n",
            "Training set: Average loss: 0.304822\n",
            "Validation set: Average loss: 0.303605, Accuracy: 4275/5000 (86%)\n",
            "\n",
            "Epoch: 40\n",
            "Training set: Average loss: 0.304217\n",
            "Validation set: Average loss: 0.302495, Accuracy: 4271/5000 (85%)\n",
            "\n",
            "Epoch: 41\n",
            "Training set: Average loss: 0.304253\n",
            "Validation set: Average loss: 0.306493, Accuracy: 4273/5000 (85%)\n",
            "\n",
            "Epoch: 42\n",
            "Training set: Average loss: 0.302940\n",
            "Validation set: Average loss: 0.305843, Accuracy: 4277/5000 (86%)\n",
            "\n",
            "Epoch: 43\n",
            "Training set: Average loss: 0.303235\n",
            "Validation set: Average loss: 0.305434, Accuracy: 4277/5000 (86%)\n",
            "\n",
            "Epoch: 44\n",
            "Training set: Average loss: 0.300591\n",
            "Validation set: Average loss: 0.304679, Accuracy: 4266/5000 (85%)\n",
            "\n",
            "Epoch: 45\n",
            "Training set: Average loss: 0.302809\n",
            "Validation set: Average loss: 0.304826, Accuracy: 4276/5000 (86%)\n",
            "\n",
            "Epoch: 46\n",
            "Training set: Average loss: 0.303144\n",
            "Validation set: Average loss: 0.305108, Accuracy: 4272/5000 (85%)\n",
            "\n",
            "Epoch: 47\n",
            "Training set: Average loss: 0.303783\n",
            "Validation set: Average loss: 0.305548, Accuracy: 4278/5000 (86%)\n",
            "\n",
            "Epoch: 48\n",
            "Training set: Average loss: 0.302532\n",
            "Validation set: Average loss: 0.303483, Accuracy: 4275/5000 (86%)\n",
            "\n",
            "Epoch: 49\n",
            "Training set: Average loss: 0.302244\n",
            "Validation set: Average loss: 0.304190, Accuracy: 4271/5000 (85%)\n",
            "\n",
            "Epoch: 50\n",
            "Training set: Average loss: 0.296952\n",
            "Validation set: Average loss: 0.304984, Accuracy: 4279/5000 (86%)\n",
            "\n",
            "Epoch: 51\n",
            "Training set: Average loss: 0.301554\n",
            "Validation set: Average loss: 0.305311, Accuracy: 4281/5000 (86%)\n",
            "\n",
            "Epoch: 52\n",
            "Training set: Average loss: 0.303539\n",
            "Validation set: Average loss: 0.307498, Accuracy: 4273/5000 (85%)\n",
            "\n",
            "Epoch: 53\n",
            "Training set: Average loss: 0.301016\n",
            "Validation set: Average loss: 0.305495, Accuracy: 4277/5000 (86%)\n",
            "\n",
            "Epoch: 54\n",
            "Training set: Average loss: 0.300973\n",
            "Validation set: Average loss: 0.303539, Accuracy: 4274/5000 (85%)\n",
            "\n",
            "Epoch: 55\n",
            "Training set: Average loss: 0.297600\n",
            "Validation set: Average loss: 0.306894, Accuracy: 4285/5000 (86%)\n",
            "\n",
            "Epoch: 56\n",
            "Training set: Average loss: 0.299973\n",
            "Validation set: Average loss: 0.306048, Accuracy: 4277/5000 (86%)\n",
            "\n",
            "Epoch: 57\n",
            "Training set: Average loss: 0.299656\n",
            "Validation set: Average loss: 0.308547, Accuracy: 4270/5000 (85%)\n",
            "\n",
            "Epoch: 58\n",
            "Training set: Average loss: 0.299336\n",
            "Validation set: Average loss: 0.304847, Accuracy: 4282/5000 (86%)\n",
            "\n",
            "Epoch: 59\n",
            "Training set: Average loss: 0.300988\n",
            "Validation set: Average loss: 0.306881, Accuracy: 4266/5000 (85%)\n",
            "\n",
            "Epoch: 60\n",
            "Training set: Average loss: 0.296776\n",
            "Validation set: Average loss: 0.308169, Accuracy: 4260/5000 (85%)\n",
            "\n",
            "Epoch: 61\n",
            "Training set: Average loss: 0.299423\n",
            "Validation set: Average loss: 0.305596, Accuracy: 4261/5000 (85%)\n",
            "\n",
            "Epoch: 62\n",
            "Training set: Average loss: 0.296011\n",
            "Validation set: Average loss: 0.304928, Accuracy: 4278/5000 (86%)\n",
            "\n",
            "Epoch: 63\n",
            "Training set: Average loss: 0.298105\n",
            "Validation set: Average loss: 0.304162, Accuracy: 4282/5000 (86%)\n",
            "\n",
            "Epoch: 64\n",
            "Training set: Average loss: 0.296805\n",
            "Validation set: Average loss: 0.305945, Accuracy: 4271/5000 (85%)\n",
            "\n",
            "Epoch: 65\n",
            "Training set: Average loss: 0.298368\n",
            "Validation set: Average loss: 0.305623, Accuracy: 4279/5000 (86%)\n",
            "\n",
            "Epoch: 66\n",
            "Training set: Average loss: 0.296982\n",
            "Validation set: Average loss: 0.305055, Accuracy: 4262/5000 (85%)\n",
            "\n",
            "Epoch: 67\n",
            "Training set: Average loss: 0.296966\n",
            "Validation set: Average loss: 0.307436, Accuracy: 4274/5000 (85%)\n",
            "\n",
            "Epoch: 68\n",
            "Training set: Average loss: 0.297021\n",
            "Validation set: Average loss: 0.308458, Accuracy: 4272/5000 (85%)\n",
            "\n",
            "Epoch: 69\n",
            "Training set: Average loss: 0.297785\n",
            "Validation set: Average loss: 0.305960, Accuracy: 4270/5000 (85%)\n",
            "\n",
            "Epoch: 70\n",
            "Training set: Average loss: 0.296786\n",
            "Validation set: Average loss: 0.307404, Accuracy: 4271/5000 (85%)\n",
            "\n",
            "Epoch: 71\n",
            "Training set: Average loss: 0.294693\n",
            "Validation set: Average loss: 0.307321, Accuracy: 4272/5000 (85%)\n",
            "\n",
            "Epoch: 72\n",
            "Training set: Average loss: 0.295920\n",
            "Validation set: Average loss: 0.306978, Accuracy: 4263/5000 (85%)\n",
            "\n",
            "Epoch: 73\n",
            "Training set: Average loss: 0.296310\n",
            "Validation set: Average loss: 0.308888, Accuracy: 4272/5000 (85%)\n",
            "\n",
            "Epoch: 74\n",
            "Training set: Average loss: 0.291470\n",
            "Validation set: Average loss: 0.308629, Accuracy: 4279/5000 (86%)\n",
            "\n",
            "Epoch: 75\n",
            "Training set: Average loss: 0.293276\n",
            "Validation set: Average loss: 0.308138, Accuracy: 4284/5000 (86%)\n",
            "\n",
            "Epoch: 76\n",
            "Training set: Average loss: 0.293497\n",
            "Validation set: Average loss: 0.308134, Accuracy: 4278/5000 (86%)\n",
            "\n",
            "Epoch: 77\n",
            "Training set: Average loss: 0.296237\n",
            "Validation set: Average loss: 0.308661, Accuracy: 4281/5000 (86%)\n",
            "\n",
            "Epoch: 78\n",
            "Training set: Average loss: 0.293060\n",
            "Validation set: Average loss: 0.310641, Accuracy: 4269/5000 (85%)\n",
            "\n",
            "Epoch: 79\n",
            "Training set: Average loss: 0.294145\n",
            "Validation set: Average loss: 0.308389, Accuracy: 4272/5000 (85%)\n",
            "\n",
            "Epoch: 80\n",
            "Training set: Average loss: 0.292728\n",
            "Validation set: Average loss: 0.309403, Accuracy: 4279/5000 (86%)\n",
            "\n",
            "Epoch: 81\n",
            "Training set: Average loss: 0.290362\n",
            "Validation set: Average loss: 0.309905, Accuracy: 4277/5000 (86%)\n",
            "\n",
            "Epoch: 82\n",
            "Training set: Average loss: 0.291379\n",
            "Validation set: Average loss: 0.310822, Accuracy: 4272/5000 (85%)\n",
            "\n",
            "Epoch: 83\n",
            "Training set: Average loss: 0.294566\n",
            "Validation set: Average loss: 0.307700, Accuracy: 4266/5000 (85%)\n",
            "\n",
            "Epoch: 84\n",
            "Training set: Average loss: 0.294735\n",
            "Validation set: Average loss: 0.306957, Accuracy: 4278/5000 (86%)\n",
            "\n",
            "Epoch: 85\n",
            "Training set: Average loss: 0.293283\n",
            "Validation set: Average loss: 0.310531, Accuracy: 4284/5000 (86%)\n",
            "\n",
            "Epoch: 86\n",
            "Training set: Average loss: 0.292011\n",
            "Validation set: Average loss: 0.307939, Accuracy: 4281/5000 (86%)\n",
            "\n",
            "Epoch: 87\n",
            "Training set: Average loss: 0.292080\n",
            "Validation set: Average loss: 0.308578, Accuracy: 4278/5000 (86%)\n",
            "\n",
            "Epoch: 88\n",
            "Training set: Average loss: 0.293032\n",
            "Validation set: Average loss: 0.308797, Accuracy: 4279/5000 (86%)\n",
            "\n",
            "Epoch: 89\n",
            "Training set: Average loss: 0.291543\n",
            "Validation set: Average loss: 0.310661, Accuracy: 4271/5000 (85%)\n",
            "\n",
            "Epoch: 90\n",
            "Training set: Average loss: 0.292265\n",
            "Validation set: Average loss: 0.306452, Accuracy: 4288/5000 (86%)\n",
            "\n",
            "Epoch: 91\n",
            "Training set: Average loss: 0.295740\n",
            "Validation set: Average loss: 0.307669, Accuracy: 4277/5000 (86%)\n",
            "\n",
            "Epoch: 92\n",
            "Training set: Average loss: 0.290066\n",
            "Validation set: Average loss: 0.306983, Accuracy: 4275/5000 (86%)\n",
            "\n",
            "Epoch: 93\n",
            "Training set: Average loss: 0.288598\n",
            "Validation set: Average loss: 0.309289, Accuracy: 4265/5000 (85%)\n",
            "\n",
            "Epoch: 94\n",
            "Training set: Average loss: 0.291337\n",
            "Validation set: Average loss: 0.308834, Accuracy: 4271/5000 (85%)\n",
            "\n",
            "Epoch: 95\n",
            "Training set: Average loss: 0.290122\n",
            "Validation set: Average loss: 0.310195, Accuracy: 4281/5000 (86%)\n",
            "\n",
            "Epoch: 96\n",
            "Training set: Average loss: 0.289704\n",
            "Validation set: Average loss: 0.311269, Accuracy: 4279/5000 (86%)\n",
            "\n",
            "Epoch: 97\n",
            "Training set: Average loss: 0.290539\n",
            "Validation set: Average loss: 0.310684, Accuracy: 4277/5000 (86%)\n",
            "\n",
            "Epoch: 98\n",
            "Training set: Average loss: 0.292410\n",
            "Validation set: Average loss: 0.308533, Accuracy: 4282/5000 (86%)\n",
            "\n",
            "Epoch: 99\n",
            "Training set: Average loss: 0.289352\n",
            "Validation set: Average loss: 0.314174, Accuracy: 4270/5000 (85%)\n",
            "\n",
            "Epoch: 100\n",
            "Training set: Average loss: 0.289147\n",
            "Validation set: Average loss: 0.309266, Accuracy: 4269/5000 (85%)\n",
            "\n"
          ]
        }
      ]
    },
    {
      "cell_type": "code",
      "source": [
        "_evaluate(model, X_test)"
      ],
      "metadata": {
        "colab": {
          "base_uri": "https://localhost:8080/",
          "height": 575
        },
        "id": "GYBJl0dQJuuf",
        "outputId": "4955a18e-2883-4072-dafb-4a490a284003"
      },
      "execution_count": null,
      "outputs": [
        {
          "output_type": "stream",
          "name": "stdout",
          "text": [
            "Evaluation on test dataset\n",
            "ACCURACY_SCORE:  0.8538\n",
            "F1_SCORE:  0.7901\n",
            "CONFUSION_MATRIX:\n",
            " [[3512  299]\n",
            " [ 432  757]] \n",
            "\n",
            "              precision    recall  f1-score   support\n",
            "\n",
            "           0     0.8905    0.9215    0.9057      3811\n",
            "           1     0.7169    0.6367    0.6744      1189\n",
            "\n",
            "    accuracy                         0.8538      5000\n",
            "   macro avg     0.8037    0.7791    0.7901      5000\n",
            "weighted avg     0.8492    0.8538    0.8507      5000\n",
            " \n",
            "\n"
          ]
        },
        {
          "output_type": "display_data",
          "data": {
            "text/plain": [
              "<Figure size 432x288 with 2 Axes>"
            ],
            "image/png": "[encoded data removed]"
          },
          "metadata": {
            "needs_background": "light"
          }
        }
      ]
    },
    {
      "cell_type": "markdown",
      "source": [
        "Sử dụng tham số mới thì acc đã tăng lên 0.8538"
      ],
      "metadata": {
        "id": "xENCSPodLnKc"
      }
    },
    {
      "cell_type": "markdown",
      "source": [
        "#Save model"
      ],
      "metadata": {
        "id": "SM1ZDfTstItt"
      }
    },
    {
      "cell_type": "code",
      "source": [
        "model_file = 'model.pt'\n",
        "torch.save(model.state_dict(), model_file)\n",
        "del model"
      ],
      "metadata": {
        "id": "oILZ0PiSJ3Lo"
      },
      "execution_count": null,
      "outputs": []
    },
    {
      "cell_type": "code",
      "source": [
        "_save_pkl('trial.pkl', trial)"
      ],
      "metadata": {
        "id": "zf0mm1LgJ5GP"
      },
      "execution_count": null,
      "outputs": []
    }
  ]
}